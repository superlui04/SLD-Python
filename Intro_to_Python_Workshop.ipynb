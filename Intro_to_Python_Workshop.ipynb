{
  "nbformat": 4,
  "nbformat_minor": 0,
  "metadata": {
    "kernelspec": {
      "display_name": "Python 3",
      "language": "python",
      "name": "python3"
    },
    "language_info": {
      "codemirror_mode": {
        "name": "ipython",
        "version": 3
      },
      "file_extension": ".py",
      "mimetype": "text/x-python",
      "name": "python",
      "nbconvert_exporter": "python",
      "pygments_lexer": "ipython3",
      "version": "3.7.3"
    },
    "colab": {
      "provenance": [],
      "collapsed_sections": [
        "kAGyemajp9hJ"
      ],
      "toc_visible": true,
      "include_colab_link": true
    }
  },
  "cells": [
    {
      "cell_type": "markdown",
      "metadata": {
        "id": "view-in-github",
        "colab_type": "text"
      },
      "source": [
        "<a href=\"https://colab.research.google.com/github/superlui04/SLD-Python/blob/main/Intro_to_Python_Workshop.ipynb\" target=\"_parent\"><img src=\"https://colab.research.google.com/assets/colab-badge.svg\" alt=\"Open In Colab\"/></a>"
      ]
    },
    {
      "cell_type": "markdown",
      "metadata": {
        "id": "tU8VsRd1hBKJ"
      },
      "source": [
        "# Python Basics Workshop"
      ]
    },
    {
      "cell_type": "markdown",
      "source": [
        "# New Section"
      ],
      "metadata": {
        "id": "Vyk22aMYlcJO"
      }
    },
    {
      "cell_type": "markdown",
      "metadata": {
        "id": "lw61eWVf29qB"
      },
      "source": [
        "## Important!! Please make a copy from this version to your own Google Colab.\n",
        "File >> Save a Copy in Drive\n",
        "\n",
        "## Commonly used shortcuts in Notebook -> save time!\n",
        "* Esc + a -> create a new cell above\n",
        "* Esc + b -> create a new cell below\n",
        "* Shift + enter (return) -> run cell\n",
        "* Shift + Tab -> check the properties and variables for a function\n",
        "\n",
        "For more complete list: https://towardsdatascience.com/jypyter-notebook-shortcuts-bf0101a98330\n"
      ]
    },
    {
      "cell_type": "markdown",
      "source": [
        "## This is a Markdown"
      ],
      "metadata": {
        "id": "FfAwd2viqVIj"
      }
    },
    {
      "cell_type": "code",
      "source": [
        "# Markdown"
      ],
      "metadata": {
        "id": "FGbsnHA5a0ae"
      },
      "execution_count": null,
      "outputs": []
    },
    {
      "cell_type": "code",
      "source": [
        "print('Hello')"
      ],
      "metadata": {
        "colab": {
          "base_uri": "https://localhost:8080/"
        },
        "id": "1FqN_Oxlakh1",
        "outputId": "88162bba-3ba1-4304-fc05-a6f4357a16de"
      },
      "execution_count": null,
      "outputs": [
        {
          "output_type": "stream",
          "name": "stdout",
          "text": [
            "Hello\n"
          ]
        }
      ]
    },
    {
      "cell_type": "code",
      "source": [
        "# This is single line comment in code cell"
      ],
      "metadata": {
        "id": "3hhmKahqzqbO"
      },
      "execution_count": null,
      "outputs": []
    },
    {
      "cell_type": "code",
      "source": [
        "s = {1,2,2,4,5,6}\n",
        "s"
      ],
      "metadata": {
        "id": "9GrTFpg33SXc"
      },
      "execution_count": null,
      "outputs": []
    },
    {
      "cell_type": "markdown",
      "metadata": {
        "id": "YV1K6MzVhBKL"
      },
      "source": [
        "## Fundamentals"
      ]
    },
    {
      "cell_type": "markdown",
      "source": [
        "### Numbers\n",
        "\n",
        "\n",
        "*   Integer (whole number)\n",
        "*   Float (decimal number)\n",
        "\n"
      ],
      "metadata": {
        "id": "aUooRKc_oNJY"
      }
    },
    {
      "cell_type": "code",
      "metadata": {
        "id": "v8zLrKTdhBKT",
        "colab": {
          "base_uri": "https://localhost:8080/"
        },
        "outputId": "d37f8234-751c-4949-ade3-67950e21e82e"
      },
      "source": [
        "1 #this is integer"
      ],
      "execution_count": null,
      "outputs": [
        {
          "output_type": "execute_result",
          "data": {
            "text/plain": [
              "1"
            ]
          },
          "metadata": {},
          "execution_count": 4
        }
      ]
    },
    {
      "cell_type": "code",
      "source": [
        "1.534 #this is float"
      ],
      "metadata": {
        "colab": {
          "base_uri": "https://localhost:8080/"
        },
        "id": "7jZgS16tpfUA",
        "outputId": "621922eb-318d-4ccf-8772-e5000fcae285"
      },
      "execution_count": null,
      "outputs": [
        {
          "output_type": "execute_result",
          "data": {
            "text/plain": [
              "1.534"
            ]
          },
          "metadata": {},
          "execution_count": 5
        }
      ]
    },
    {
      "cell_type": "code",
      "source": [
        "type(1)"
      ],
      "metadata": {
        "colab": {
          "base_uri": "https://localhost:8080/"
        },
        "id": "SSjZpOK3pjQR",
        "outputId": "44c2aa97-96b2-4fe1-b3b5-fd07aa14232f"
      },
      "execution_count": null,
      "outputs": [
        {
          "output_type": "execute_result",
          "data": {
            "text/plain": [
              "int"
            ]
          },
          "metadata": {},
          "execution_count": 6
        }
      ]
    },
    {
      "cell_type": "code",
      "source": [
        "type(1.534)"
      ],
      "metadata": {
        "colab": {
          "base_uri": "https://localhost:8080/"
        },
        "id": "P4yafZlNpkdq",
        "outputId": "a523b138-0d8e-4493-d5a4-c0705e095148"
      },
      "execution_count": null,
      "outputs": [
        {
          "output_type": "execute_result",
          "data": {
            "text/plain": [
              "float"
            ]
          },
          "metadata": {},
          "execution_count": 7
        }
      ]
    },
    {
      "cell_type": "markdown",
      "metadata": {
        "id": "JbB1tAkthBKl"
      },
      "source": [
        "### Variable Assignment\n",
        "\n",
        "Rules for Python variables:\n",
        "* A variable name must start with a letter or the underscore character\n",
        "* A variable name cannot start with a number\n",
        "* A variable name can only contain alpha-numeric characters and underscores (A-z, 0-9, and _ )\n",
        "* Variable names are case-sensitive (age, Age and AGE are three different variables)"
      ]
    },
    {
      "cell_type": "code",
      "metadata": {
        "id": "q6OvLKCahBKm"
      },
      "source": [
        "# Can not start with number or special characters, no space allowed\n",
        "name_of_var = 2"
      ],
      "execution_count": null,
      "outputs": []
    },
    {
      "cell_type": "code",
      "metadata": {
        "id": "SkMTW9bahBKo"
      },
      "source": [
        "x = 2\n",
        "y = 3"
      ],
      "execution_count": null,
      "outputs": []
    },
    {
      "cell_type": "code",
      "metadata": {
        "id": "rwh86O7ihBKr"
      },
      "source": [
        "z = x + y"
      ],
      "execution_count": null,
      "outputs": []
    },
    {
      "cell_type": "code",
      "metadata": {
        "id": "zjZio5MphBKu",
        "colab": {
          "base_uri": "https://localhost:8080/"
        },
        "outputId": "95daca18-c918-444c-e31e-fa27de18c05d"
      },
      "source": [
        "z"
      ],
      "execution_count": null,
      "outputs": [
        {
          "output_type": "execute_result",
          "data": {
            "text/plain": [
              "5"
            ]
          },
          "metadata": {},
          "execution_count": 12
        }
      ]
    },
    {
      "cell_type": "markdown",
      "metadata": {
        "id": "J97luSvRhBKx"
      },
      "source": [
        "### Strings"
      ]
    },
    {
      "cell_type": "code",
      "metadata": {
        "id": "0O-Pz8YChBKx",
        "colab": {
          "base_uri": "https://localhost:8080/",
          "height": 36
        },
        "outputId": "44ad70bc-b86c-420b-924d-2ba4f74da74d"
      },
      "source": [
        "'single quotes'"
      ],
      "execution_count": null,
      "outputs": [
        {
          "output_type": "execute_result",
          "data": {
            "text/plain": [
              "'single quotes'"
            ],
            "application/vnd.google.colaboratory.intrinsic+json": {
              "type": "string"
            }
          },
          "metadata": {},
          "execution_count": 13
        }
      ]
    },
    {
      "cell_type": "code",
      "metadata": {
        "id": "MXGoorNIhBK1",
        "colab": {
          "base_uri": "https://localhost:8080/",
          "height": 36
        },
        "outputId": "e6de478d-9219-4db3-e7e4-f29665fb61d0"
      },
      "source": [
        "\"double quotes\""
      ],
      "execution_count": null,
      "outputs": [
        {
          "output_type": "execute_result",
          "data": {
            "text/plain": [
              "'double quotes'"
            ],
            "application/vnd.google.colaboratory.intrinsic+json": {
              "type": "string"
            }
          },
          "metadata": {},
          "execution_count": 14
        }
      ]
    },
    {
      "cell_type": "code",
      "metadata": {
        "id": "C3ukk5oMhBK3",
        "colab": {
          "base_uri": "https://localhost:8080/",
          "height": 36
        },
        "outputId": "6d9f6d09-8614-446d-c3c1-b1ff14793261"
      },
      "source": [
        "\" wrap lot's of other quotes\""
      ],
      "execution_count": null,
      "outputs": [
        {
          "output_type": "execute_result",
          "data": {
            "text/plain": [
              "\" wrap lot's of other quotes\""
            ],
            "application/vnd.google.colaboratory.intrinsic+json": {
              "type": "string"
            }
          },
          "metadata": {},
          "execution_count": 15
        }
      ]
    },
    {
      "cell_type": "code",
      "source": [
        "word = 'Hello Python!'\n",
        "word.split()"
      ],
      "metadata": {
        "colab": {
          "base_uri": "https://localhost:8080/"
        },
        "id": "AdEhrW1xs39h",
        "outputId": "bebadf26-75e0-4b8e-ee94-b4aa3f508aeb"
      },
      "execution_count": null,
      "outputs": [
        {
          "output_type": "execute_result",
          "data": {
            "text/plain": [
              "['Hello', 'Python!']"
            ]
          },
          "metadata": {},
          "execution_count": 16
        }
      ]
    },
    {
      "cell_type": "code",
      "source": [
        "type(word)"
      ],
      "metadata": {
        "colab": {
          "base_uri": "https://localhost:8080/"
        },
        "id": "0yvx6y9fdCjV",
        "outputId": "fb48848b-61d5-445a-d469-a9540d4a8e6c"
      },
      "execution_count": null,
      "outputs": [
        {
          "output_type": "execute_result",
          "data": {
            "text/plain": [
              "str"
            ]
          },
          "metadata": {},
          "execution_count": 17
        }
      ]
    },
    {
      "cell_type": "code",
      "source": [
        "print('''\n",
        "This is\n",
        "for\n",
        "multiple\n",
        "lines\n",
        "''')"
      ],
      "metadata": {
        "colab": {
          "base_uri": "https://localhost:8080/"
        },
        "id": "dQb2kLx77iGB",
        "outputId": "0013e223-4dc8-4612-c02e-cb9b6bbe640d"
      },
      "execution_count": null,
      "outputs": [
        {
          "output_type": "stream",
          "name": "stdout",
          "text": [
            "\n",
            "This is\n",
            "for\n",
            "multiple\n",
            "lines\n",
            "\n"
          ]
        }
      ]
    },
    {
      "cell_type": "markdown",
      "metadata": {
        "id": "YEtefqrthBMC"
      },
      "source": [
        "### Booleans"
      ]
    },
    {
      "cell_type": "code",
      "metadata": {
        "id": "6SMlwm9chBME",
        "colab": {
          "base_uri": "https://localhost:8080/"
        },
        "outputId": "7020cbd9-2d65-4423-cd32-2c049bb750ed"
      },
      "source": [
        "True"
      ],
      "execution_count": null,
      "outputs": [
        {
          "output_type": "execute_result",
          "data": {
            "text/plain": [
              "True"
            ]
          },
          "metadata": {},
          "execution_count": 19
        }
      ]
    },
    {
      "cell_type": "code",
      "metadata": {
        "id": "O5qbU_LnhBMH"
      },
      "source": [
        "False"
      ],
      "execution_count": null,
      "outputs": []
    },
    {
      "cell_type": "markdown",
      "metadata": {
        "id": "geNI3gDjhBLR"
      },
      "source": [
        "### Lists\n",
        "List can contain any and every data types mixed."
      ]
    },
    {
      "cell_type": "markdown",
      "source": [
        "#### Creating a list"
      ],
      "metadata": {
        "id": "hfuG8Xd93Eq3"
      }
    },
    {
      "cell_type": "code",
      "metadata": {
        "id": "AleBLnw3hBLS",
        "colab": {
          "base_uri": "https://localhost:8080/"
        },
        "outputId": "257e2d25-99bb-4057-a152-5c22b16fc161"
      },
      "source": [
        "[1,2,3]"
      ],
      "execution_count": null,
      "outputs": [
        {
          "output_type": "execute_result",
          "data": {
            "text/plain": [
              "[1, 2, 3]"
            ]
          },
          "metadata": {},
          "execution_count": 22
        }
      ]
    },
    {
      "cell_type": "code",
      "metadata": {
        "id": "Vzi3eVEnhBLT",
        "colab": {
          "base_uri": "https://localhost:8080/"
        },
        "outputId": "19c48cad-5f8a-40a4-9775-bd36e1a88ed9"
      },
      "source": [
        "['hi',1,[1,2]]"
      ],
      "execution_count": null,
      "outputs": [
        {
          "output_type": "execute_result",
          "data": {
            "text/plain": [
              "['hi', 1, [1, 2]]"
            ]
          },
          "metadata": {},
          "execution_count": 23
        }
      ]
    },
    {
      "cell_type": "code",
      "source": [
        "ls = list()\n",
        "ls2 = []"
      ],
      "metadata": {
        "id": "vw9bGoPp3RUu"
      },
      "execution_count": null,
      "outputs": []
    },
    {
      "cell_type": "code",
      "source": [
        "ls"
      ],
      "metadata": {
        "colab": {
          "base_uri": "https://localhost:8080/"
        },
        "id": "BbLlEVKtdsiN",
        "outputId": "f888bfb2-95e5-42a2-a3f1-1da4b2c6e6eb"
      },
      "execution_count": null,
      "outputs": [
        {
          "output_type": "execute_result",
          "data": {
            "text/plain": [
              "[]"
            ]
          },
          "metadata": {},
          "execution_count": 26
        }
      ]
    },
    {
      "cell_type": "code",
      "source": [
        "ls2"
      ],
      "metadata": {
        "colab": {
          "base_uri": "https://localhost:8080/"
        },
        "id": "0nE4BOvSdwyg",
        "outputId": "f8843618-43e5-4474-be69-ad737a89c350"
      },
      "execution_count": null,
      "outputs": [
        {
          "output_type": "execute_result",
          "data": {
            "text/plain": [
              "[]"
            ]
          },
          "metadata": {},
          "execution_count": 27
        }
      ]
    },
    {
      "cell_type": "code",
      "metadata": {
        "id": "bopV_kdahBLW",
        "colab": {
          "base_uri": "https://localhost:8080/"
        },
        "outputId": "e0403d5d-c8a5-4152-f9f3-59589d81052c"
      },
      "source": [
        "my_list = ['a','b','c']\n",
        "my_list"
      ],
      "execution_count": null,
      "outputs": [
        {
          "output_type": "execute_result",
          "data": {
            "text/plain": [
              "['a', 'b', 'c']"
            ]
          },
          "metadata": {},
          "execution_count": 28
        }
      ]
    },
    {
      "cell_type": "code",
      "source": [
        "# List can be used to iterate on the letters in a string.\n",
        "my_word = list('I love Python')\n",
        "my_word"
      ],
      "metadata": {
        "colab": {
          "base_uri": "https://localhost:8080/"
        },
        "id": "BE4va_aEsXf4",
        "outputId": "cdb8a0c2-cfef-447a-d778-c4de25613422"
      },
      "execution_count": null,
      "outputs": [
        {
          "output_type": "execute_result",
          "data": {
            "text/plain": [
              "['I', ' ', 'l', 'o', 'v', 'e', ' ', 'P', 'y', 't', 'h', 'o', 'n']"
            ]
          },
          "metadata": {},
          "execution_count": 30
        }
      ]
    },
    {
      "cell_type": "code",
      "source": [
        "my_word = 'I love Python'\n",
        "my_word.split() #will return a list with separated word. Delimiter by default is ' '"
      ],
      "metadata": {
        "colab": {
          "base_uri": "https://localhost:8080/"
        },
        "id": "5dY0YdgxzGcH",
        "outputId": "1c616324-c004-4d6b-d4d2-49f1bcdc8ed3"
      },
      "execution_count": null,
      "outputs": [
        {
          "output_type": "execute_result",
          "data": {
            "text/plain": [
              "['I', 'love', 'Python']"
            ]
          },
          "metadata": {},
          "execution_count": 31
        }
      ]
    },
    {
      "cell_type": "markdown",
      "source": [
        "#### Reading and slicing from a list\n",
        "\n",
        "*  list[start:end:step]\n",
        "*  index starts from 0 in Python.\n",
        "*  Remember that start is inclusive and end is exclusive. This applies to everywhere in Python for slicing.\n",
        "\n",
        "\n"
      ],
      "metadata": {
        "id": "iRbsNaz63Z8I"
      }
    },
    {
      "cell_type": "code",
      "metadata": {
        "id": "mW5wNavahBLg",
        "colab": {
          "base_uri": "https://localhost:8080/",
          "height": 36
        },
        "outputId": "f448b5cd-aabf-43c7-8176-e73278ae6ef6"
      },
      "source": [
        "my_list[0] #this calls the first element of my_list"
      ],
      "execution_count": null,
      "outputs": [
        {
          "output_type": "execute_result",
          "data": {
            "text/plain": [
              "'a'"
            ],
            "application/vnd.google.colaboratory.intrinsic+json": {
              "type": "string"
            }
          },
          "metadata": {},
          "execution_count": 32
        }
      ]
    },
    {
      "cell_type": "code",
      "metadata": {
        "id": "M9_3bBXthBLj",
        "colab": {
          "base_uri": "https://localhost:8080/",
          "height": 36
        },
        "outputId": "4d298af5-e82e-4d38-8ebc-d27524cfc7c1"
      },
      "source": [
        "my_list[1] #this calls second element of my_list"
      ],
      "execution_count": null,
      "outputs": [
        {
          "output_type": "execute_result",
          "data": {
            "text/plain": [
              "'b'"
            ],
            "application/vnd.google.colaboratory.intrinsic+json": {
              "type": "string"
            }
          },
          "metadata": {},
          "execution_count": 33
        }
      ]
    },
    {
      "cell_type": "code",
      "metadata": {
        "id": "Nm1cfjHwhBLk",
        "colab": {
          "base_uri": "https://localhost:8080/"
        },
        "outputId": "937d47c2-0963-4032-e295-b7d56777ec4b"
      },
      "source": [
        "my_list[1:] #this calls second element and thereafter"
      ],
      "execution_count": null,
      "outputs": [
        {
          "output_type": "execute_result",
          "data": {
            "text/plain": [
              "['b', 'c']"
            ]
          },
          "metadata": {},
          "execution_count": 34
        }
      ]
    },
    {
      "cell_type": "code",
      "metadata": {
        "id": "_Wg-b9c3hBLn",
        "colab": {
          "base_uri": "https://localhost:8080/"
        },
        "outputId": "c42120f7-166a-4dcf-f85a-2ae2547991d4"
      },
      "source": [
        "my_list[:1] #this calls all the elements up to before index 1"
      ],
      "execution_count": null,
      "outputs": [
        {
          "output_type": "execute_result",
          "data": {
            "text/plain": [
              "['a']"
            ]
          },
          "metadata": {},
          "execution_count": 35
        }
      ]
    },
    {
      "cell_type": "code",
      "source": [
        "my_word = 'I love Python'\n",
        "my_word"
      ],
      "metadata": {
        "colab": {
          "base_uri": "https://localhost:8080/",
          "height": 36
        },
        "id": "81y61QRRflFd",
        "outputId": "6efdaad7-48a1-4582-f2d7-41ca1bda110e"
      },
      "execution_count": null,
      "outputs": [
        {
          "output_type": "execute_result",
          "data": {
            "text/plain": [
              "'I love Python'"
            ],
            "application/vnd.google.colaboratory.intrinsic+json": {
              "type": "string"
            }
          },
          "metadata": {},
          "execution_count": 37
        }
      ]
    },
    {
      "cell_type": "code",
      "source": [
        "my_word[-3:-1]\n"
      ],
      "metadata": {
        "colab": {
          "base_uri": "https://localhost:8080/",
          "height": 36
        },
        "id": "cHy7CXiaYN0J",
        "outputId": "c11c273e-8b56-42a7-9729-07f4eca64d80"
      },
      "execution_count": null,
      "outputs": [
        {
          "output_type": "execute_result",
          "data": {
            "text/plain": [
              "'ho'"
            ],
            "application/vnd.google.colaboratory.intrinsic+json": {
              "type": "string"
            }
          },
          "metadata": {},
          "execution_count": 38
        }
      ]
    },
    {
      "cell_type": "code",
      "metadata": {
        "id": "cBDCD4fthBLv"
      },
      "source": [
        "nest = [1,2,3,[4,5,['target']]]"
      ],
      "execution_count": null,
      "outputs": []
    },
    {
      "cell_type": "code",
      "metadata": {
        "id": "UuWdPaJ5hBLy",
        "colab": {
          "base_uri": "https://localhost:8080/"
        },
        "outputId": "e46038a2-0987-4aac-aad2-f6639f1c6e98"
      },
      "source": [
        "nest[3]"
      ],
      "execution_count": null,
      "outputs": [
        {
          "output_type": "execute_result",
          "data": {
            "text/plain": [
              "[4, 5, ['target']]"
            ]
          },
          "metadata": {},
          "execution_count": 40
        }
      ]
    },
    {
      "cell_type": "code",
      "metadata": {
        "id": "6JHcVLWHhBLz",
        "colab": {
          "base_uri": "https://localhost:8080/"
        },
        "outputId": "aa3cc551-e0ec-45e0-e2d6-477335767406"
      },
      "source": [
        "nest[3][2]"
      ],
      "execution_count": null,
      "outputs": [
        {
          "output_type": "execute_result",
          "data": {
            "text/plain": [
              "['target']"
            ]
          },
          "metadata": {},
          "execution_count": 16
        }
      ]
    },
    {
      "cell_type": "code",
      "metadata": {
        "id": "Er1cJM7DhBL1",
        "colab": {
          "base_uri": "https://localhost:8080/",
          "height": 36
        },
        "outputId": "8c9fe24b-6cc1-4230-c7f4-c68185b44ee4"
      },
      "source": [
        "nest[3][2][0]"
      ],
      "execution_count": null,
      "outputs": [
        {
          "output_type": "execute_result",
          "data": {
            "text/plain": [
              "'target'"
            ],
            "application/vnd.google.colaboratory.intrinsic+json": {
              "type": "string"
            }
          },
          "metadata": {},
          "execution_count": 41
        }
      ]
    },
    {
      "cell_type": "markdown",
      "source": [
        "#### Updating List\n",
        "*   list[index] = new_value\n",
        "*   list.append() to add additional element\n",
        "*   list.extend() to unpack and add into the list\n",
        "\n"
      ],
      "metadata": {
        "id": "IJ4zG_pM4N5_"
      }
    },
    {
      "cell_type": "code",
      "metadata": {
        "id": "2hA_asY1hBLp",
        "colab": {
          "base_uri": "https://localhost:8080/"
        },
        "outputId": "f5b81601-6333-4021-aaf3-def691fe27fc"
      },
      "source": [
        "my_list[0] = 'NEW'\n",
        "my_list"
      ],
      "execution_count": null,
      "outputs": [
        {
          "output_type": "execute_result",
          "data": {
            "text/plain": [
              "['NEW', 'b', 'c']"
            ]
          },
          "metadata": {},
          "execution_count": 42
        }
      ]
    },
    {
      "cell_type": "code",
      "metadata": {
        "id": "WqLMMi9VhBLZ",
        "colab": {
          "base_uri": "https://localhost:8080/"
        },
        "outputId": "2a0c1e12-3eb6-485b-af9e-8c7797f369df"
      },
      "source": [
        "my_list.append('d')\n",
        "my_list"
      ],
      "execution_count": null,
      "outputs": [
        {
          "output_type": "execute_result",
          "data": {
            "text/plain": [
              "['NEW', 'b', 'c', 'd']"
            ]
          },
          "metadata": {},
          "execution_count": 43
        }
      ]
    },
    {
      "cell_type": "code",
      "source": [
        "my_list.append(['a','b'])\n",
        "my_list"
      ],
      "metadata": {
        "id": "3xPNVucy5mjs",
        "colab": {
          "base_uri": "https://localhost:8080/"
        },
        "outputId": "48ff77c4-16af-43be-cd98-431b1b85e03b"
      },
      "execution_count": null,
      "outputs": [
        {
          "output_type": "execute_result",
          "data": {
            "text/plain": [
              "['NEW', 'b', 'c', 'd', ['a', 'b']]"
            ]
          },
          "metadata": {},
          "execution_count": 44
        }
      ]
    },
    {
      "cell_type": "code",
      "source": [
        "my_list.extend(['x','y'])\n",
        "my_list"
      ],
      "metadata": {
        "id": "UAcfZqn95fFN",
        "colab": {
          "base_uri": "https://localhost:8080/"
        },
        "outputId": "b2b5e9c0-2b7a-4e43-9d68-5d586cbb9fbe"
      },
      "execution_count": null,
      "outputs": [
        {
          "output_type": "execute_result",
          "data": {
            "text/plain": [
              "['NEW', 'b', 'c', 'd', ['a', 'b'], 'x', 'y']"
            ]
          },
          "metadata": {},
          "execution_count": 45
        }
      ]
    },
    {
      "cell_type": "markdown",
      "source": [
        "#### Deleting Element in List\n",
        "*   list.pop()\n",
        "*   list.remove()\n",
        "\n"
      ],
      "metadata": {
        "id": "mVVWYRF84qoa"
      }
    },
    {
      "cell_type": "code",
      "source": [
        "my_list.pop(0) #return the deleted element and remove it from the list."
      ],
      "metadata": {
        "colab": {
          "base_uri": "https://localhost:8080/",
          "height": 36
        },
        "id": "iPo09OFn5K63",
        "outputId": "1f713969-9b8f-4e04-e4f2-c34a5fddff33"
      },
      "execution_count": null,
      "outputs": [
        {
          "output_type": "execute_result",
          "data": {
            "text/plain": [
              "'NEW'"
            ],
            "application/vnd.google.colaboratory.intrinsic+json": {
              "type": "string"
            }
          },
          "metadata": {},
          "execution_count": 46
        }
      ]
    },
    {
      "cell_type": "code",
      "source": [
        "my_list"
      ],
      "metadata": {
        "colab": {
          "base_uri": "https://localhost:8080/"
        },
        "id": "990i9YBQ5-GR",
        "outputId": "23cbe134-864e-4e6a-c1ed-38ddbfec89e7"
      },
      "execution_count": null,
      "outputs": [
        {
          "output_type": "execute_result",
          "data": {
            "text/plain": [
              "['b', 'c', 'd', ['a', 'b'], 'x', 'y']"
            ]
          },
          "metadata": {},
          "execution_count": 47
        }
      ]
    },
    {
      "cell_type": "code",
      "source": [
        "my_list.remove('d') #remove element by explicitly mentioning in the method"
      ],
      "metadata": {
        "id": "FNS3z9uJ6JZ-"
      },
      "execution_count": null,
      "outputs": []
    },
    {
      "cell_type": "code",
      "source": [
        "my_list"
      ],
      "metadata": {
        "colab": {
          "base_uri": "https://localhost:8080/"
        },
        "id": "nHFdtnKo6SSD",
        "outputId": "b2f390c1-e676-4a88-9b2d-40674fff27e3"
      },
      "execution_count": null,
      "outputs": [
        {
          "output_type": "execute_result",
          "data": {
            "text/plain": [
              "['b', 'c', ['a', 'b'], 'x', 'y']"
            ]
          },
          "metadata": {},
          "execution_count": 49
        }
      ]
    },
    {
      "cell_type": "markdown",
      "metadata": {
        "id": "Aw6e-l3_hBL4"
      },
      "source": [
        "### Dictionaries"
      ]
    },
    {
      "cell_type": "markdown",
      "source": [
        "#### Creating Dictionary\n",
        "\n"
      ],
      "metadata": {
        "id": "qfBuVIia6Yy-"
      }
    },
    {
      "cell_type": "code",
      "metadata": {
        "id": "slnB-TyIhBL5",
        "colab": {
          "base_uri": "https://localhost:8080/"
        },
        "outputId": "3978035e-1e30-471d-8952-bb08aa193c71"
      },
      "source": [
        "d = {'key1':'item1',\n",
        "     'key2':'item2'}\n",
        "d"
      ],
      "execution_count": null,
      "outputs": [
        {
          "output_type": "execute_result",
          "data": {
            "text/plain": [
              "{'key1': 'item1', 'key2': 'item2'}"
            ]
          },
          "metadata": {},
          "execution_count": 50
        }
      ]
    },
    {
      "cell_type": "markdown",
      "source": [
        "#### Reading from Dictionary\n",
        "*   dict['key']\n",
        "*   dict.keys()\n",
        "*   dict.values()\n",
        "\n"
      ],
      "metadata": {
        "id": "azUtm1PD8Hu_"
      }
    },
    {
      "cell_type": "code",
      "metadata": {
        "id": "JYPa3uc9hBMA",
        "colab": {
          "base_uri": "https://localhost:8080/",
          "height": 36
        },
        "outputId": "e98652f9-420d-4f0b-d1e6-888fae1d2007"
      },
      "source": [
        "d['key1']"
      ],
      "execution_count": null,
      "outputs": [
        {
          "output_type": "execute_result",
          "data": {
            "text/plain": [
              "'item1'"
            ],
            "application/vnd.google.colaboratory.intrinsic+json": {
              "type": "string"
            }
          },
          "metadata": {},
          "execution_count": 51
        }
      ]
    },
    {
      "cell_type": "code",
      "source": [
        "d.keys()"
      ],
      "metadata": {
        "colab": {
          "base_uri": "https://localhost:8080/"
        },
        "id": "nC3DsZo-7VSW",
        "outputId": "346fc968-9b76-4e26-eead-21bca5059b9b"
      },
      "execution_count": null,
      "outputs": [
        {
          "output_type": "execute_result",
          "data": {
            "text/plain": [
              "dict_keys(['key1', 'key2'])"
            ]
          },
          "metadata": {},
          "execution_count": 52
        }
      ]
    },
    {
      "cell_type": "code",
      "source": [
        "d.values()"
      ],
      "metadata": {
        "colab": {
          "base_uri": "https://localhost:8080/"
        },
        "id": "-YK9NoJ781DA",
        "outputId": "bf8a9a7c-2323-462c-accd-ef19ed9f1b96"
      },
      "execution_count": null,
      "outputs": [
        {
          "output_type": "execute_result",
          "data": {
            "text/plain": [
              "dict_values(['item1', 'item2'])"
            ]
          },
          "metadata": {},
          "execution_count": 53
        }
      ]
    },
    {
      "cell_type": "markdown",
      "source": [
        "#### Update Dictionary"
      ],
      "metadata": {
        "id": "0RRj0eEG85Fo"
      }
    },
    {
      "cell_type": "code",
      "source": [
        "d['key3']= 'item3' # adding extra key value pair\n",
        "d"
      ],
      "metadata": {
        "colab": {
          "base_uri": "https://localhost:8080/"
        },
        "id": "jWQwO7vf88ym",
        "outputId": "d0686fde-7d7d-4a6a-f23a-d5acdcff51ab"
      },
      "execution_count": null,
      "outputs": [
        {
          "output_type": "execute_result",
          "data": {
            "text/plain": [
              "{'key1': 'item1', 'key2': 'item2', 'key3': 'item3'}"
            ]
          },
          "metadata": {},
          "execution_count": 54
        }
      ]
    },
    {
      "cell_type": "code",
      "source": [
        "d['key1']='item1_mod' #changing value for key1\n",
        "d"
      ],
      "metadata": {
        "colab": {
          "base_uri": "https://localhost:8080/"
        },
        "id": "3xznVMkN9D7m",
        "outputId": "eb913bf9-ee57-4b56-f293-8f72ef16155b"
      },
      "execution_count": null,
      "outputs": [
        {
          "output_type": "execute_result",
          "data": {
            "text/plain": [
              "{'key1': 'item1_mod', 'key2': 'item2', 'key3': 'item3'}"
            ]
          },
          "metadata": {},
          "execution_count": 55
        }
      ]
    },
    {
      "cell_type": "markdown",
      "source": [
        "#### Delete Dictionary Element"
      ],
      "metadata": {
        "id": "SITv1R449MpB"
      }
    },
    {
      "cell_type": "code",
      "source": [
        "del d['key1']"
      ],
      "metadata": {
        "id": "-g8NkNQY9RLO"
      },
      "execution_count": null,
      "outputs": []
    },
    {
      "cell_type": "code",
      "source": [
        "d"
      ],
      "metadata": {
        "colab": {
          "base_uri": "https://localhost:8080/"
        },
        "id": "oKs3XtOkZM71",
        "outputId": "3c508306-0510-45aa-f51d-99b81dbb9257"
      },
      "execution_count": null,
      "outputs": [
        {
          "output_type": "execute_result",
          "data": {
            "text/plain": [
              "{'key2': 'item2', 'key3': 'item3'}"
            ]
          },
          "metadata": {},
          "execution_count": 57
        }
      ]
    },
    {
      "cell_type": "markdown",
      "metadata": {
        "id": "WQgbrGeWhBML"
      },
      "source": [
        "### Tuples\n",
        "This container is immutable. Meaning once created, items cannot be modified or updated."
      ]
    },
    {
      "cell_type": "markdown",
      "source": [
        "#### Creating Tuples"
      ],
      "metadata": {
        "id": "RA8TDUnJ7W1o"
      }
    },
    {
      "cell_type": "code",
      "metadata": {
        "id": "aNT-gl60hBML"
      },
      "source": [
        "t = (1,2,3) # using () for creation."
      ],
      "execution_count": null,
      "outputs": []
    },
    {
      "cell_type": "markdown",
      "source": [
        "#### Reading from Tuples"
      ],
      "metadata": {
        "id": "WedsrB1L7eT0"
      }
    },
    {
      "cell_type": "code",
      "metadata": {
        "id": "2pZxNH0WhBMO",
        "colab": {
          "base_uri": "https://localhost:8080/"
        },
        "outputId": "737fe687-80d2-4e56-f0c8-b7600f7cb86a"
      },
      "source": [
        "t[0]"
      ],
      "execution_count": null,
      "outputs": [
        {
          "output_type": "execute_result",
          "data": {
            "text/plain": [
              "1"
            ]
          },
          "metadata": {},
          "execution_count": 59
        }
      ]
    },
    {
      "cell_type": "code",
      "metadata": {
        "id": "pU2hFmVdhBMR",
        "colab": {
          "base_uri": "https://localhost:8080/",
          "height": 175
        },
        "outputId": "b3007cb6-6314-4f26-b09a-3e63da2c383f"
      },
      "source": [
        "t[0] = 'NEW'"
      ],
      "execution_count": null,
      "outputs": [
        {
          "output_type": "error",
          "ename": "TypeError",
          "evalue": "ignored",
          "traceback": [
            "\u001b[0;31m---------------------------------------------------------------------------\u001b[0m",
            "\u001b[0;31mTypeError\u001b[0m                                 Traceback (most recent call last)",
            "\u001b[0;32m<ipython-input-60-93bfe9be1549>\u001b[0m in \u001b[0;36m<cell line: 1>\u001b[0;34m()\u001b[0m\n\u001b[0;32m----> 1\u001b[0;31m \u001b[0mt\u001b[0m\u001b[0;34m[\u001b[0m\u001b[0;36m0\u001b[0m\u001b[0;34m]\u001b[0m \u001b[0;34m=\u001b[0m \u001b[0;34m'NEW'\u001b[0m\u001b[0;34m\u001b[0m\u001b[0;34m\u001b[0m\u001b[0m\n\u001b[0m",
            "\u001b[0;31mTypeError\u001b[0m: 'tuple' object does not support item assignment"
          ]
        }
      ]
    },
    {
      "cell_type": "markdown",
      "source": [
        "#### Delete Tuples"
      ],
      "metadata": {
        "id": "o6lpoVwyBTiw"
      }
    },
    {
      "cell_type": "code",
      "source": [
        "del t"
      ],
      "metadata": {
        "id": "myELM_ARBWBA"
      },
      "execution_count": null,
      "outputs": []
    },
    {
      "cell_type": "markdown",
      "metadata": {
        "id": "ygjNNRQ9hBMT"
      },
      "source": [
        "### Sets\n",
        "This container is to get the unique value from the elements."
      ]
    },
    {
      "cell_type": "markdown",
      "source": [
        "#### Creating Sets"
      ],
      "metadata": {
        "id": "U4zFRfWx7suN"
      }
    },
    {
      "cell_type": "code",
      "metadata": {
        "id": "gB5zOCG6hBMT",
        "colab": {
          "base_uri": "https://localhost:8080/"
        },
        "outputId": "68738d89-5a53-4de1-d0fe-51cf026008d8"
      },
      "source": [
        "s = {1,2,3} # using {} for creation\n",
        "s"
      ],
      "execution_count": null,
      "outputs": [
        {
          "output_type": "execute_result",
          "data": {
            "text/plain": [
              "{1, 2, 3}"
            ]
          },
          "metadata": {},
          "execution_count": 42
        }
      ]
    },
    {
      "cell_type": "code",
      "metadata": {
        "id": "7tfidHHfhBMV",
        "colab": {
          "base_uri": "https://localhost:8080/"
        },
        "outputId": "1c6d6e9b-8ad7-4848-ea08-3b863b3081b8"
      },
      "source": [
        "s = {1,2,3,1,2,1,2,3,3,3,3,2,2,2,1,1,2}\n",
        "s"
      ],
      "execution_count": null,
      "outputs": [
        {
          "output_type": "execute_result",
          "data": {
            "text/plain": [
              "{1, 2, 3}"
            ]
          },
          "metadata": {},
          "execution_count": 62
        }
      ]
    },
    {
      "cell_type": "code",
      "source": [
        "s=set(list('I love you'))\n",
        "s"
      ],
      "metadata": {
        "colab": {
          "base_uri": "https://localhost:8080/"
        },
        "id": "rYokjWe9sJIs",
        "outputId": "8d8f10d5-6b88-44bc-a7e3-15d8870885da"
      },
      "execution_count": null,
      "outputs": [
        {
          "output_type": "execute_result",
          "data": {
            "text/plain": [
              "{' ', 'I', 'e', 'l', 'o', 'u', 'v', 'y'}"
            ]
          },
          "metadata": {},
          "execution_count": 63
        }
      ]
    },
    {
      "cell_type": "markdown",
      "source": [
        "#### Reading Sets"
      ],
      "metadata": {
        "id": "GxltwMiE8XML"
      }
    },
    {
      "cell_type": "code",
      "source": [
        "list(s)[0]"
      ],
      "metadata": {
        "colab": {
          "base_uri": "https://localhost:8080/",
          "height": 36
        },
        "id": "J-zv2c968Zyc",
        "outputId": "adcef3a6-a995-4d6b-a69d-9fe73bf29af3"
      },
      "execution_count": null,
      "outputs": [
        {
          "output_type": "execute_result",
          "data": {
            "text/plain": [
              "'o'"
            ],
            "application/vnd.google.colaboratory.intrinsic+json": {
              "type": "string"
            }
          },
          "metadata": {},
          "execution_count": 64
        }
      ]
    },
    {
      "cell_type": "markdown",
      "source": [
        "#### Delete Sets"
      ],
      "metadata": {
        "id": "pakuEAEGAi1D"
      }
    },
    {
      "cell_type": "code",
      "source": [
        "del s"
      ],
      "metadata": {
        "id": "HqMYqNRAAm_r"
      },
      "execution_count": null,
      "outputs": []
    },
    {
      "cell_type": "markdown",
      "metadata": {
        "id": "BaDOyzjthBLB"
      },
      "source": [
        "italicised text## Commonly Used Built-in Functions"
      ]
    },
    {
      "cell_type": "markdown",
      "source": [
        "### print()"
      ],
      "metadata": {
        "id": "q43B5TNNtIjo"
      }
    },
    {
      "cell_type": "code",
      "metadata": {
        "id": "l1uw601phBLB"
      },
      "source": [
        "x = 'hello'"
      ],
      "execution_count": null,
      "outputs": []
    },
    {
      "cell_type": "code",
      "metadata": {
        "id": "N-zXpHKkhBLG",
        "colab": {
          "base_uri": "https://localhost:8080/"
        },
        "outputId": "1054f369-c93c-4ca5-c13d-660bf0a9031f"
      },
      "source": [
        "print(x)"
      ],
      "execution_count": null,
      "outputs": [
        {
          "output_type": "stream",
          "name": "stdout",
          "text": [
            "2\n"
          ]
        }
      ]
    },
    {
      "cell_type": "code",
      "metadata": {
        "id": "ei7kpKXchBLK"
      },
      "source": [
        "num = 12\n",
        "name = 'Sam'"
      ],
      "execution_count": null,
      "outputs": []
    },
    {
      "cell_type": "code",
      "metadata": {
        "id": "Un4lUR1FhBLN",
        "colab": {
          "base_uri": "https://localhost:8080/"
        },
        "outputId": "f6663c4e-96fe-4f67-ba84-4b2264470f26"
      },
      "source": [
        "print('My number is: {one}, and my name is: {two}'.format(one=num,two=name))"
      ],
      "execution_count": null,
      "outputs": [
        {
          "output_type": "stream",
          "name": "stdout",
          "text": [
            "My number is: 12, and my name is: Sam\n"
          ]
        }
      ]
    },
    {
      "cell_type": "code",
      "metadata": {
        "id": "WJs6FBAqhBLP",
        "colab": {
          "base_uri": "https://localhost:8080/"
        },
        "outputId": "162e8a8e-4877-4f48-9025-232e5bcce9f9"
      },
      "source": [
        "print('My number is: {}, and my name is: {}'.format(num,name))"
      ],
      "execution_count": null,
      "outputs": [
        {
          "output_type": "stream",
          "name": "stdout",
          "text": [
            "My number is: 12, and my name is: Sam\n"
          ]
        }
      ]
    },
    {
      "cell_type": "code",
      "source": [
        "age = 6\n",
        "print(f'She Loves Data is {age} years young')"
      ],
      "metadata": {
        "colab": {
          "base_uri": "https://localhost:8080/"
        },
        "id": "S-mTCtBGe4J7",
        "outputId": "f44dda6b-964a-4e3c-988e-b97a21451856"
      },
      "execution_count": null,
      "outputs": [
        {
          "output_type": "stream",
          "name": "stdout",
          "text": [
            "She Loves Data is 6 years young\n"
          ]
        }
      ]
    },
    {
      "cell_type": "code",
      "source": [
        "print(\n",
        "'''\n",
        "Oh my gosh!\n",
        "I discover\n",
        "my love for Python\n",
        "'''\n",
        ")\n",
        "print(\n",
        "\"\"\"\n",
        "This is another\n",
        "declaration of my\n",
        "love with Python\n",
        "\"\"\"\n",
        ")"
      ],
      "metadata": {
        "colab": {
          "base_uri": "https://localhost:8080/"
        },
        "id": "Lc0j_UYO2PNt",
        "outputId": "ef282888-53f0-462a-b384-b0886dab43f5"
      },
      "execution_count": null,
      "outputs": [
        {
          "output_type": "stream",
          "name": "stdout",
          "text": [
            "\n",
            "Oh my gosh!\n",
            "I discover\n",
            "my love for Python\n",
            "\n",
            "\n",
            "This is another\n",
            "declaration of my\n",
            "love with Python\n",
            "\n"
          ]
        }
      ]
    },
    {
      "cell_type": "markdown",
      "source": [
        "### type()"
      ],
      "metadata": {
        "id": "Ckf-wYcqtLe0"
      }
    },
    {
      "cell_type": "code",
      "source": [
        "type(my_list)"
      ],
      "metadata": {
        "colab": {
          "base_uri": "https://localhost:8080/"
        },
        "id": "7h-2ZwJwyhte",
        "outputId": "03d60435-7e08-4eba-e79a-8d67754eff5e"
      },
      "execution_count": null,
      "outputs": [
        {
          "output_type": "execute_result",
          "data": {
            "text/plain": [
              "list"
            ]
          },
          "metadata": {},
          "execution_count": 24
        }
      ]
    },
    {
      "cell_type": "code",
      "source": [
        "type('s')"
      ],
      "metadata": {
        "colab": {
          "base_uri": "https://localhost:8080/"
        },
        "id": "Gd_WlM5bCaTk",
        "outputId": "1c933712-09f9-4aba-a347-4f1d4534d942"
      },
      "execution_count": null,
      "outputs": [
        {
          "output_type": "execute_result",
          "data": {
            "text/plain": [
              "str"
            ]
          },
          "metadata": {},
          "execution_count": 11
        }
      ]
    },
    {
      "cell_type": "code",
      "source": [
        "type(1)"
      ],
      "metadata": {
        "colab": {
          "base_uri": "https://localhost:8080/"
        },
        "id": "ddrj07izCdMU",
        "outputId": "c3f23264-4a15-4154-825d-00037e8a625b"
      },
      "execution_count": null,
      "outputs": [
        {
          "output_type": "execute_result",
          "data": {
            "text/plain": [
              "int"
            ]
          },
          "metadata": {},
          "execution_count": 12
        }
      ]
    },
    {
      "cell_type": "code",
      "source": [
        "type(1.5)"
      ],
      "metadata": {
        "colab": {
          "base_uri": "https://localhost:8080/"
        },
        "id": "TV2JylwgCfER",
        "outputId": "c472e6bf-e444-4082-812e-b03d3f478c15"
      },
      "execution_count": null,
      "outputs": [
        {
          "output_type": "execute_result",
          "data": {
            "text/plain": [
              "float"
            ]
          },
          "metadata": {},
          "execution_count": 13
        }
      ]
    },
    {
      "cell_type": "markdown",
      "source": [
        "### range()\n",
        "range(start, end, step) to automatically generate ordered numbers based on specified parameters."
      ],
      "metadata": {
        "id": "zX4x_fdceAms"
      }
    },
    {
      "cell_type": "code",
      "source": [
        "list(range(0,4,2))"
      ],
      "metadata": {
        "colab": {
          "base_uri": "https://localhost:8080/"
        },
        "id": "0yrqobTSeSKc",
        "outputId": "0f18a00a-b18b-4da2-8cbd-9166e6f626a6"
      },
      "execution_count": null,
      "outputs": [
        {
          "output_type": "execute_result",
          "data": {
            "text/plain": [
              "[0, 2]"
            ]
          },
          "metadata": {},
          "execution_count": 79
        }
      ]
    },
    {
      "cell_type": "code",
      "source": [
        "list(range(5))"
      ],
      "metadata": {
        "colab": {
          "base_uri": "https://localhost:8080/"
        },
        "id": "3Bjxn2q9etXH",
        "outputId": "7fe1eee3-62d9-42d9-b9a2-1c5a7d788487"
      },
      "execution_count": null,
      "outputs": [
        {
          "output_type": "execute_result",
          "data": {
            "text/plain": [
              "[0, 1, 2, 3, 4]"
            ]
          },
          "metadata": {},
          "execution_count": 78
        }
      ]
    },
    {
      "cell_type": "markdown",
      "source": [
        "### len()\n",
        "len(object) is to know number of items in the object"
      ],
      "metadata": {
        "id": "N3Hfm0lS4uxB"
      }
    },
    {
      "cell_type": "code",
      "source": [
        "type([1,2,3])"
      ],
      "metadata": {
        "colab": {
          "base_uri": "https://localhost:8080/"
        },
        "id": "r5seejk6jw-u",
        "outputId": "32443cd0-0a5f-4683-e614-c7b39a794d70"
      },
      "execution_count": null,
      "outputs": [
        {
          "output_type": "execute_result",
          "data": {
            "text/plain": [
              "list"
            ]
          },
          "metadata": {},
          "execution_count": 80
        }
      ]
    },
    {
      "cell_type": "code",
      "source": [
        "len([1,2,3])"
      ],
      "metadata": {
        "colab": {
          "base_uri": "https://localhost:8080/"
        },
        "id": "h83XGTVo45Hq",
        "outputId": "3430b01f-64ec-4fad-f74c-972f15a75dcb"
      },
      "execution_count": null,
      "outputs": [
        {
          "output_type": "execute_result",
          "data": {
            "text/plain": [
              "3"
            ]
          },
          "metadata": {},
          "execution_count": 75
        }
      ]
    },
    {
      "cell_type": "code",
      "source": [
        "len([1,[1,2]])"
      ],
      "metadata": {
        "colab": {
          "base_uri": "https://localhost:8080/"
        },
        "id": "x3CHiBN847rf",
        "outputId": "235d1016-b9c5-4811-ea80-9e2cb0788fa7"
      },
      "execution_count": null,
      "outputs": [
        {
          "output_type": "execute_result",
          "data": {
            "text/plain": [
              "2"
            ]
          },
          "metadata": {},
          "execution_count": 76
        }
      ]
    },
    {
      "cell_type": "code",
      "source": [
        "ls= [1,[1,2]]\n",
        "len(ls[1])"
      ],
      "metadata": {
        "colab": {
          "base_uri": "https://localhost:8080/"
        },
        "id": "__xUYZvJ5BmC",
        "outputId": "7bbc2cae-28d5-4948-f45c-013d903c4007"
      },
      "execution_count": null,
      "outputs": [
        {
          "output_type": "execute_result",
          "data": {
            "text/plain": [
              "2"
            ]
          },
          "metadata": {},
          "execution_count": 77
        }
      ]
    },
    {
      "cell_type": "markdown",
      "source": [
        "\n",
        "#Lab Exercise #1"
      ],
      "metadata": {
        "id": "dB2q-B-jvYk5"
      }
    },
    {
      "cell_type": "code",
      "source": [
        "list('She Loves Data')"
      ],
      "metadata": {
        "colab": {
          "base_uri": "https://localhost:8080/"
        },
        "id": "bLSWhEtAl-Vj",
        "outputId": "a8b34c81-b2b3-4f61-d20f-f03c480e3842"
      },
      "execution_count": null,
      "outputs": [
        {
          "output_type": "execute_result",
          "data": {
            "text/plain": [
              "['S', 'h', 'e', ' ', 'L', 'o', 'v', 'e', 's', ' ', 'D', 'a', 't', 'a']"
            ]
          },
          "metadata": {},
          "execution_count": 99
        }
      ]
    },
    {
      "cell_type": "code",
      "source": [
        "#Extract Love from She Loves Data string.\n",
        "word='She Loves Data'\n",
        "new_word=word.split()\n",
        "new_word [1][:4]"
      ],
      "metadata": {
        "colab": {
          "base_uri": "https://localhost:8080/",
          "height": 36
        },
        "id": "uOeRYG5VlbhD",
        "outputId": "8d4e0837-c20b-420b-9173-b5d1237051ff"
      },
      "execution_count": null,
      "outputs": [
        {
          "output_type": "execute_result",
          "data": {
            "text/plain": [
              "'Love'"
            ],
            "application/vnd.google.colaboratory.intrinsic+json": {
              "type": "string"
            }
          },
          "metadata": {},
          "execution_count": 101
        }
      ]
    },
    {
      "cell_type": "code",
      "source": [
        "#Extract Love from She Loves Data string.\n",
        "word = 'She Loves Data'\n",
        "# type your code here\n",
        "string = word.split()[1]\n",
        "list(string)\n",
        "string[0:4]"
      ],
      "metadata": {
        "id": "EGAFTLHuw0_f",
        "colab": {
          "base_uri": "https://localhost:8080/",
          "height": 36
        },
        "outputId": "bcc89ae1-5dfb-4f3a-bad3-89b48a47b331"
      },
      "execution_count": null,
      "outputs": [
        {
          "output_type": "execute_result",
          "data": {
            "text/plain": [
              "'Love'"
            ],
            "application/vnd.google.colaboratory.intrinsic+json": {
              "type": "string"
            }
          },
          "metadata": {},
          "execution_count": 100
        }
      ]
    },
    {
      "cell_type": "code",
      "source": [
        "#How do we extract Robert's history grade?\n",
        "dictionary = {'Robert':\n",
        "              {'mathematics':'A',\n",
        "               'history':'C+',\n",
        "               'physics': 'B'},\n",
        "              'Suzie':\n",
        "              {'mathematics':'A+',\n",
        "               'history':'B+',\n",
        "               'physics': 'A-'}\n",
        "              }\n",
        "#type your code here"
      ],
      "metadata": {
        "id": "tenr-n0AzC9P"
      },
      "execution_count": null,
      "outputs": []
    },
    {
      "cell_type": "code",
      "source": [
        "dictionary['Robert'] ['history']"
      ],
      "metadata": {
        "colab": {
          "base_uri": "https://localhost:8080/",
          "height": 36
        },
        "id": "UbE33CapmmUP",
        "outputId": "b0be5e62-8360-4e60-895d-274b0eec51a9"
      },
      "execution_count": null,
      "outputs": [
        {
          "output_type": "execute_result",
          "data": {
            "text/plain": [
              "'C+'"
            ],
            "application/vnd.google.colaboratory.intrinsic+json": {
              "type": "string"
            }
          },
          "metadata": {},
          "execution_count": 111
        }
      ]
    },
    {
      "cell_type": "code",
      "source": [
        "#Given following variable, how do I output following?\n",
        "# When x is 2, x+2 is 4.\n",
        "x = 2\n",
        "y = x + 2\n",
        "print(f'When x is {x}, x+2 is {y}.')"
      ],
      "metadata": {
        "id": "ZKsFvYO70v0y",
        "colab": {
          "base_uri": "https://localhost:8080/"
        },
        "outputId": "b4c6d5ce-6717-42dd-a8b5-8293b3702c0d"
      },
      "execution_count": null,
      "outputs": [
        {
          "output_type": "stream",
          "name": "stdout",
          "text": [
            "When x is 2, x+2 is 4.\n"
          ]
        }
      ]
    },
    {
      "cell_type": "code",
      "source": [
        "x = 2\n",
        "y = x + 2\n",
        "print('When x is {}, x+2 is {}'.format(x, y))\n"
      ],
      "metadata": {
        "colab": {
          "base_uri": "https://localhost:8080/"
        },
        "id": "KOYvU7Cpp8E_",
        "outputId": "d0d7d524-5fe6-4ff0-be4a-377c4103a6d0"
      },
      "execution_count": null,
      "outputs": [
        {
          "output_type": "stream",
          "name": "stdout",
          "text": [
            "When x is 2, x+2 is 4\n"
          ]
        }
      ]
    },
    {
      "cell_type": "code",
      "source": [
        "#Challenge question: How to reverse all the letters in the word?\n",
        "word = 'I love Python'\n",
        "#expected result: nohtyP evol I\n",
        "#type your code here"
      ],
      "metadata": {
        "id": "FtiymK-fQSBJ"
      },
      "execution_count": null,
      "outputs": []
    },
    {
      "cell_type": "code",
      "source": [
        "list(word)\n",
        "# incomplete"
      ],
      "metadata": {
        "colab": {
          "base_uri": "https://localhost:8080/"
        },
        "id": "agPo_Ti1qNxx",
        "outputId": "92d6a89b-fd0f-4960-bba1-5d8e9e88b330"
      },
      "execution_count": null,
      "outputs": [
        {
          "output_type": "execute_result",
          "data": {
            "text/plain": [
              "['I', ' ', 'l', 'o', 'v', 'e', ' ', 'P', 'y', 't', 'h', 'o', 'n']"
            ]
          },
          "metadata": {},
          "execution_count": 129
        }
      ]
    },
    {
      "cell_type": "markdown",
      "source": [
        "# Operators"
      ],
      "metadata": {
        "id": "9QvCVLMKmCYm"
      }
    },
    {
      "cell_type": "markdown",
      "source": [
        "## Arithmetic Operators"
      ],
      "metadata": {
        "id": "MymI-P01p-b1"
      }
    },
    {
      "cell_type": "code",
      "source": [
        "1 + 2"
      ],
      "metadata": {
        "colab": {
          "base_uri": "https://localhost:8080/"
        },
        "id": "q_LaIqyWpvhS",
        "outputId": "5f80369b-fa3b-47ff-c406-260fc13ea452"
      },
      "execution_count": null,
      "outputs": [
        {
          "output_type": "execute_result",
          "data": {
            "text/plain": [
              "3"
            ]
          },
          "metadata": {},
          "execution_count": 83
        }
      ]
    },
    {
      "cell_type": "code",
      "metadata": {
        "id": "8bXq-n9ChBKW",
        "colab": {
          "base_uri": "https://localhost:8080/"
        },
        "outputId": "154cef2c-15d3-4e62-c523-7953d409f092"
      },
      "source": [
        "#power\n",
        "2 ** 4"
      ],
      "execution_count": null,
      "outputs": [
        {
          "output_type": "execute_result",
          "data": {
            "text/plain": [
              "16"
            ]
          },
          "metadata": {},
          "execution_count": 82
        }
      ]
    },
    {
      "cell_type": "code",
      "metadata": {
        "id": "4B6DgjYwhBKa",
        "colab": {
          "base_uri": "https://localhost:8080/"
        },
        "outputId": "3feff3bb-cf9f-491b-f5eb-c14117ff5dda"
      },
      "source": [
        "4 % 2 #modulo, returning remainder. Commonly used in checking divisibility"
      ],
      "execution_count": null,
      "outputs": [
        {
          "output_type": "execute_result",
          "data": {
            "text/plain": [
              "0"
            ]
          },
          "metadata": {},
          "execution_count": 81
        }
      ]
    },
    {
      "cell_type": "code",
      "metadata": {
        "id": "xNoWc-sjhBKe",
        "colab": {
          "base_uri": "https://localhost:8080/"
        },
        "outputId": "7e842e8c-09ec-49e1-94a3-4213fe7ef422"
      },
      "source": [
        "5 % 2"
      ],
      "execution_count": null,
      "outputs": [
        {
          "output_type": "execute_result",
          "data": {
            "text/plain": [
              "1"
            ]
          },
          "metadata": {},
          "execution_count": 84
        }
      ]
    },
    {
      "cell_type": "code",
      "metadata": {
        "id": "7V4BevUohBKg",
        "colab": {
          "base_uri": "https://localhost:8080/"
        },
        "outputId": "3b434a4a-d006-445f-ae50-0a285d559952"
      },
      "source": [
        "(2 + 3) * (5 + 5)"
      ],
      "execution_count": null,
      "outputs": [
        {
          "output_type": "execute_result",
          "data": {
            "text/plain": [
              "50"
            ]
          },
          "metadata": {},
          "execution_count": 87
        }
      ]
    },
    {
      "cell_type": "code",
      "source": [
        "5//2 #returns the smallest integer"
      ],
      "metadata": {
        "colab": {
          "base_uri": "https://localhost:8080/"
        },
        "id": "ZcZtgtX1qJfm",
        "outputId": "bccb30ed-19b6-4e60-8215-40e8097fecd8"
      },
      "execution_count": null,
      "outputs": [
        {
          "output_type": "execute_result",
          "data": {
            "text/plain": [
              "2"
            ]
          },
          "metadata": {},
          "execution_count": 88
        }
      ]
    },
    {
      "cell_type": "markdown",
      "metadata": {
        "id": "Qu15AtEyhBMX"
      },
      "source": [
        "## Comparison Operators"
      ]
    },
    {
      "cell_type": "code",
      "metadata": {
        "id": "SLCRd_ZPhBMX",
        "colab": {
          "base_uri": "https://localhost:8080/"
        },
        "outputId": "1260c719-1622-49fd-8c12-95b6028a7a16"
      },
      "source": [
        "1 > 2"
      ],
      "execution_count": null,
      "outputs": [
        {
          "output_type": "execute_result",
          "data": {
            "text/plain": [
              "False"
            ]
          },
          "metadata": {},
          "execution_count": 89
        }
      ]
    },
    {
      "cell_type": "code",
      "metadata": {
        "id": "IUFqaHfshBMa",
        "colab": {
          "base_uri": "https://localhost:8080/"
        },
        "outputId": "31436b73-c665-4b18-9cf0-5abc3f705b34"
      },
      "source": [
        "1 < 2"
      ],
      "execution_count": null,
      "outputs": [
        {
          "output_type": "execute_result",
          "data": {
            "text/plain": [
              "True"
            ]
          },
          "metadata": {},
          "execution_count": 90
        }
      ]
    },
    {
      "cell_type": "code",
      "metadata": {
        "id": "jjVqHl5qhBMb",
        "colab": {
          "base_uri": "https://localhost:8080/"
        },
        "outputId": "bac0542b-7f06-4be4-eedb-f92c145f4982"
      },
      "source": [
        "1 >= 1"
      ],
      "execution_count": null,
      "outputs": [
        {
          "output_type": "execute_result",
          "data": {
            "text/plain": [
              "True"
            ]
          },
          "metadata": {},
          "execution_count": 91
        }
      ]
    },
    {
      "cell_type": "code",
      "metadata": {
        "id": "tetEBTsxhBMd",
        "colab": {
          "base_uri": "https://localhost:8080/"
        },
        "outputId": "fbf754b5-97e3-427d-d3ac-5ca39292cab2"
      },
      "source": [
        "1 <= 4"
      ],
      "execution_count": null,
      "outputs": [
        {
          "output_type": "execute_result",
          "data": {
            "text/plain": [
              "True"
            ]
          },
          "metadata": {},
          "execution_count": 92
        }
      ]
    },
    {
      "cell_type": "code",
      "metadata": {
        "id": "9NvHS2FmhBMh",
        "colab": {
          "base_uri": "https://localhost:8080/"
        },
        "outputId": "74be649e-a89c-4874-ab72-15ead53726cc"
      },
      "source": [
        "1 == 1"
      ],
      "execution_count": null,
      "outputs": [
        {
          "output_type": "execute_result",
          "data": {
            "text/plain": [
              "True"
            ]
          },
          "metadata": {},
          "execution_count": 93
        }
      ]
    },
    {
      "cell_type": "code",
      "metadata": {
        "id": "YsDzGid8hBMj"
      },
      "source": [
        "'hi' == 'bye'"
      ],
      "execution_count": null,
      "outputs": []
    },
    {
      "cell_type": "markdown",
      "metadata": {
        "id": "qM9-tQuPhBMm"
      },
      "source": [
        "## Logic Operators\n",
        "This is mainly used to check on condition(s) for control flows."
      ]
    },
    {
      "cell_type": "code",
      "metadata": {
        "id": "7utWWgg1hBMs",
        "colab": {
          "base_uri": "https://localhost:8080/"
        },
        "outputId": "da5a7b92-f975-4428-de8b-575455449a4f"
      },
      "source": [
        "(1 > 2) and (2 < 3)"
      ],
      "execution_count": null,
      "outputs": [
        {
          "output_type": "execute_result",
          "data": {
            "text/plain": [
              "False"
            ]
          },
          "metadata": {},
          "execution_count": 30
        }
      ]
    },
    {
      "cell_type": "code",
      "metadata": {
        "id": "vVcd91lRhBMv",
        "colab": {
          "base_uri": "https://localhost:8080/"
        },
        "outputId": "8dc27385-c63c-41ab-8a28-40ed9804fa04"
      },
      "source": [
        "(1 > 2) or (2 < 3)"
      ],
      "execution_count": null,
      "outputs": [
        {
          "output_type": "execute_result",
          "data": {
            "text/plain": [
              "True"
            ]
          },
          "metadata": {},
          "execution_count": 29
        }
      ]
    },
    {
      "cell_type": "code",
      "metadata": {
        "id": "jXvDBnHZhBMx",
        "colab": {
          "base_uri": "https://localhost:8080/"
        },
        "outputId": "0885da86-cc25-4022-b77d-42073e3a38ee"
      },
      "source": [
        "(1 == 2) or (2 == 3) or (4 == 4)"
      ],
      "execution_count": null,
      "outputs": [
        {
          "output_type": "execute_result",
          "data": {
            "text/plain": [
              "True"
            ]
          },
          "metadata": {},
          "execution_count": 28
        }
      ]
    },
    {
      "cell_type": "code",
      "source": [
        "not(1 == 1)"
      ],
      "metadata": {
        "colab": {
          "base_uri": "https://localhost:8080/"
        },
        "id": "EuMISOP_y4Kp",
        "outputId": "149cd6c5-e8e8-48e8-9de9-3cf914573b5f"
      },
      "execution_count": null,
      "outputs": [
        {
          "output_type": "execute_result",
          "data": {
            "text/plain": [
              "False"
            ]
          },
          "metadata": {},
          "execution_count": 27
        }
      ]
    },
    {
      "cell_type": "markdown",
      "source": [
        "#Lab Exercise #2\n"
      ],
      "metadata": {
        "id": "7tYwdqU2aESc"
      }
    },
    {
      "cell_type": "code",
      "source": [
        "birth_year = 1988\n",
        "this_year = 2022\n",
        "\n",
        "### Type your code here...\n",
        "# calculate the age\n",
        "age=this_year-birth_year\n",
        "print(age)"
      ],
      "metadata": {
        "id": "CA0hkBf9byMu",
        "colab": {
          "base_uri": "https://localhost:8080/"
        },
        "outputId": "e99d6af1-7c52-4065-b547-4426930f3fbf"
      },
      "execution_count": null,
      "outputs": [
        {
          "output_type": "stream",
          "name": "stdout",
          "text": [
            "34\n"
          ]
        }
      ]
    },
    {
      "cell_type": "code",
      "source": [
        "# Is it true that my age is now 30 years old? How do I write in Python?\n",
        "\n",
        "# your code here...\n",
        "age==30"
      ],
      "metadata": {
        "id": "ZPu1Lletu6pL",
        "colab": {
          "base_uri": "https://localhost:8080/"
        },
        "outputId": "cb5c45a0-caaa-4d52-e09a-1d98949375ea"
      },
      "execution_count": null,
      "outputs": [
        {
          "output_type": "execute_result",
          "data": {
            "text/plain": [
              "False"
            ]
          },
          "metadata": {},
          "execution_count": 133
        }
      ]
    },
    {
      "cell_type": "code",
      "source": [
        "#How do I check if 843 is divisible by 9?\n",
        "\n",
        "#type your code here\n",
        "if 843 % 9 == 0:\n",
        "    print('True')\n",
        "else:\n",
        "    print('False')\n"
      ],
      "metadata": {
        "id": "dlJ2G7gL1KbK",
        "colab": {
          "base_uri": "https://localhost:8080/"
        },
        "outputId": "0a93eafd-60ce-4724-aaa3-127b862c16ee"
      },
      "execution_count": null,
      "outputs": [
        {
          "output_type": "stream",
          "name": "stdout",
          "text": [
            "False\n"
          ]
        }
      ]
    },
    {
      "cell_type": "markdown",
      "source": [
        "# ================= Part 2 ==================="
      ],
      "metadata": {
        "id": "XEWCutEz1c2k"
      }
    },
    {
      "cell_type": "markdown",
      "source": [
        "# Control Flows"
      ],
      "metadata": {
        "id": "qRoY_q9Do-1S"
      }
    },
    {
      "cell_type": "markdown",
      "metadata": {
        "id": "HkI3-hRfhBMz"
      },
      "source": [
        "## if,elif, else Statements"
      ]
    },
    {
      "cell_type": "code",
      "metadata": {
        "id": "JSVhsbauhBM1",
        "colab": {
          "base_uri": "https://localhost:8080/"
        },
        "outputId": "dbaec947-982f-4426-fe6a-cf2c0a87d6ce"
      },
      "source": [
        "a = 15\n",
        "\n",
        "b = 20\n",
        "\n",
        "if a < b:\n",
        "  print('A is lesser than B')"
      ],
      "execution_count": null,
      "outputs": [
        {
          "output_type": "stream",
          "name": "stdout",
          "text": [
            "A is lesser than B\n"
          ]
        }
      ]
    },
    {
      "cell_type": "code",
      "metadata": {
        "id": "coa_HBjMhBM4",
        "colab": {
          "base_uri": "https://localhost:8080/"
        },
        "outputId": "adcc6902-1e0b-4ab5-dad7-124ba4afd11d"
      },
      "source": [
        "if a > b:\n",
        "    print('A is greater than B')\n",
        "else:\n",
        "    print('A is lesser than B')"
      ],
      "execution_count": null,
      "outputs": [
        {
          "output_type": "stream",
          "name": "stdout",
          "text": [
            "A is lesser than B\n"
          ]
        }
      ]
    },
    {
      "cell_type": "code",
      "metadata": {
        "id": "jZxpwNi3hBM6",
        "colab": {
          "base_uri": "https://localhost:8080/"
        },
        "outputId": "2a24e2b1-97c0-4e90-caaa-166d512506f7"
      },
      "source": [
        "if a > b:\n",
        "    print('A is greater than B')\n",
        "elif a == b:\n",
        "    print('A is equal to B')\n",
        "else:\n",
        "    print('A is lesser than B')"
      ],
      "execution_count": null,
      "outputs": [
        {
          "output_type": "stream",
          "name": "stdout",
          "text": [
            "A is lesser than B\n"
          ]
        }
      ]
    },
    {
      "cell_type": "markdown",
      "metadata": {
        "id": "FSzV2hmfhBNC"
      },
      "source": [
        "## for Loops\n",
        "\n"
      ]
    },
    {
      "cell_type": "code",
      "metadata": {
        "id": "fu_icMSDhBND"
      },
      "source": [
        "seq = [1,2,3,4,5]"
      ],
      "execution_count": null,
      "outputs": []
    },
    {
      "cell_type": "code",
      "metadata": {
        "id": "YKKX4ni8hBNE",
        "colab": {
          "base_uri": "https://localhost:8080/"
        },
        "outputId": "9af59b33-9f1d-483c-cb5a-614505f1b445"
      },
      "source": [
        "for item in seq:\n",
        "    print(item)"
      ],
      "execution_count": null,
      "outputs": [
        {
          "output_type": "stream",
          "name": "stdout",
          "text": [
            "1\n",
            "2\n",
            "3\n",
            "4\n",
            "5\n"
          ]
        }
      ]
    },
    {
      "cell_type": "code",
      "metadata": {
        "id": "z6LzjKWbhBNG",
        "colab": {
          "base_uri": "https://localhost:8080/"
        },
        "outputId": "ecef0a83-19ae-4aff-bb4e-61d7a7c5f808"
      },
      "source": [
        "for item in seq:\n",
        "    print('Yep')"
      ],
      "execution_count": null,
      "outputs": [
        {
          "output_type": "stream",
          "name": "stdout",
          "text": [
            "Yep\n",
            "Yep\n",
            "Yep\n",
            "Yep\n",
            "Yep\n"
          ]
        }
      ]
    },
    {
      "cell_type": "code",
      "metadata": {
        "id": "kaYaHINlhBNH",
        "colab": {
          "base_uri": "https://localhost:8080/"
        },
        "outputId": "f483afe0-0dcd-4aae-f19b-e71004c9885f"
      },
      "source": [
        "for item in seq:\n",
        "    print(item+item)"
      ],
      "execution_count": null,
      "outputs": [
        {
          "output_type": "stream",
          "name": "stdout",
          "text": [
            "2\n",
            "4\n",
            "6\n",
            "8\n",
            "10\n"
          ]
        }
      ]
    },
    {
      "cell_type": "code",
      "source": [
        "#It can iterate over a list as well\n",
        "\n",
        "weekdays = [\"Monday\", \"Tuesday\", \"Wednesday\",\"Thursday\",\"Friday\"]\n",
        "for i in weekdays:\n",
        "  print(i)"
      ],
      "metadata": {
        "id": "8OKWMCV-7UAO",
        "colab": {
          "base_uri": "https://localhost:8080/"
        },
        "outputId": "ede595cf-2087-4ea1-bc6a-4b237d07e0c2"
      },
      "execution_count": null,
      "outputs": [
        {
          "output_type": "stream",
          "name": "stdout",
          "text": [
            "Monday\n",
            "Tuesday\n",
            "Wednesday\n",
            "Thursday\n",
            "Friday\n"
          ]
        }
      ]
    },
    {
      "cell_type": "code",
      "source": [
        "#Looping through String\n",
        "\n",
        "for i in \"python\":\n",
        "  print(i)"
      ],
      "metadata": {
        "colab": {
          "base_uri": "https://localhost:8080/"
        },
        "id": "EgNo_9iz7dKx",
        "outputId": "d7a215f8-6b0d-4db6-993a-1db5feaf292d"
      },
      "execution_count": null,
      "outputs": [
        {
          "output_type": "stream",
          "name": "stdout",
          "text": [
            "p\n",
            "y\n",
            "t\n",
            "h\n",
            "o\n",
            "n\n"
          ]
        }
      ]
    },
    {
      "cell_type": "markdown",
      "metadata": {
        "id": "cxHvbCqWhBNJ"
      },
      "source": [
        "## while Loops"
      ]
    },
    {
      "cell_type": "code",
      "metadata": {
        "id": "_HBhfgVahBNJ",
        "colab": {
          "base_uri": "https://localhost:8080/"
        },
        "outputId": "d27101b8-867b-4a1e-f74c-40844557f887"
      },
      "source": [
        "i = 1\n",
        "while i < 5:\n",
        "    print('i is: {}'.format(i))\n",
        "    i = i+1"
      ],
      "execution_count": null,
      "outputs": [
        {
          "output_type": "stream",
          "name": "stdout",
          "text": [
            "i is: 1\n",
            "i is: 2\n",
            "i is: 3\n",
            "i is: 4\n"
          ]
        }
      ]
    },
    {
      "cell_type": "markdown",
      "source": [
        "#Lab Exercise #3\n"
      ],
      "metadata": {
        "id": "m1nr_O9S9ALD"
      }
    },
    {
      "cell_type": "code",
      "source": [
        "#1. Resolve error\n",
        "\n",
        "a = 33\n",
        "b = 200\n",
        "if b > a:\n",
        "  print(\"b is greater than a\")"
      ],
      "metadata": {
        "colab": {
          "base_uri": "https://localhost:8080/"
        },
        "id": "_3TlC2B73ZqA",
        "outputId": "c95dd4a6-eb99-4ef6-c16c-138706c3e739"
      },
      "execution_count": null,
      "outputs": [
        {
          "output_type": "stream",
          "name": "stdout",
          "text": [
            "b is greater than a\n"
          ]
        }
      ]
    },
    {
      "cell_type": "code",
      "source": [
        "# 2. Make a program that lists the months in the list below using a while loop.\n",
        "mlist = [\"January\",\"February\",\"March\",\"April\"]"
      ],
      "metadata": {
        "id": "tdvCNb9z3hVl"
      },
      "execution_count": null,
      "outputs": []
    },
    {
      "cell_type": "code",
      "source": [
        "#3. Make a program to print even numbers till 100"
      ],
      "metadata": {
        "id": "ko8C6puy3l0m"
      },
      "execution_count": null,
      "outputs": []
    },
    {
      "cell_type": "markdown",
      "metadata": {
        "id": "EVKJLA5_hBNb"
      },
      "source": [
        "# Functions\n",
        "Indentation matters!"
      ]
    },
    {
      "cell_type": "code",
      "metadata": {
        "id": "ZM-oW8qchBNc"
      },
      "source": [
        "def my_first_function():\n",
        "  print(\"This is my first python function\")"
      ],
      "execution_count": null,
      "outputs": []
    },
    {
      "cell_type": "code",
      "metadata": {
        "id": "-WNRw-1WhBNd",
        "colab": {
          "base_uri": "https://localhost:8080/"
        },
        "outputId": "02494bd1-6ea0-42cd-feb0-b3f9a9e28341"
      },
      "source": [
        "my_first_function()"
      ],
      "execution_count": null,
      "outputs": [
        {
          "output_type": "stream",
          "name": "stdout",
          "text": [
            "This is my first python function\n"
          ]
        }
      ]
    },
    {
      "cell_type": "code",
      "metadata": {
        "id": "vzPxNNRfhBNf"
      },
      "source": [
        "def my_second_function(fname):\n",
        "  print(\"Data \" + fname)"
      ],
      "execution_count": null,
      "outputs": []
    },
    {
      "cell_type": "code",
      "metadata": {
        "id": "604oFzwQhBNi",
        "colab": {
          "base_uri": "https://localhost:8080/"
        },
        "outputId": "b1515610-ba1c-40cf-eb31-f129f1ad5a3e"
      },
      "source": [
        "my_second_function(\"Analytics\")"
      ],
      "execution_count": null,
      "outputs": [
        {
          "output_type": "stream",
          "name": "stdout",
          "text": [
            "Data Analytics\n"
          ]
        }
      ]
    },
    {
      "cell_type": "code",
      "metadata": {
        "id": "W1YEWKuchBNj",
        "colab": {
          "base_uri": "https://localhost:8080/"
        },
        "outputId": "ed30c20e-4f01-4398-eb81-f7e8ddc5fe8e"
      },
      "source": [
        "my_second_function(\"Science\")"
      ],
      "execution_count": null,
      "outputs": [
        {
          "output_type": "stream",
          "name": "stdout",
          "text": [
            "Data Science\n"
          ]
        }
      ]
    },
    {
      "cell_type": "code",
      "metadata": {
        "id": "Si0qHzoQhBNk"
      },
      "source": [
        "def square(x):\n",
        "    return x**2"
      ],
      "execution_count": null,
      "outputs": []
    },
    {
      "cell_type": "code",
      "metadata": {
        "id": "Smbi9Ic4hBNn",
        "colab": {
          "base_uri": "https://localhost:8080/"
        },
        "outputId": "0c0562fa-b639-4d38-8f02-acfc1e7000ad"
      },
      "source": [
        "print(square(4))"
      ],
      "execution_count": null,
      "outputs": [
        {
          "output_type": "stream",
          "name": "stdout",
          "text": [
            "16\n"
          ]
        }
      ]
    },
    {
      "cell_type": "code",
      "metadata": {
        "scrolled": true,
        "id": "lXn3bj2UhBNo",
        "colab": {
          "base_uri": "https://localhost:8080/"
        },
        "outputId": "29454d62-5e04-492f-b2f0-0cdceff1a90f"
      },
      "source": [
        "print(square(5))"
      ],
      "execution_count": null,
      "outputs": [
        {
          "output_type": "stream",
          "name": "stdout",
          "text": [
            "25\n"
          ]
        }
      ]
    },
    {
      "cell_type": "code",
      "source": [
        "#Difference between functions that return vs print.\n",
        "def function_that_prints():\n",
        "    print('This function prints')\n",
        "\n",
        "def function_that_returns():\n",
        "    return 'This function returns'\n",
        "\n",
        "f1 = function_that_prints()\n",
        "f2 = function_that_returns()\n",
        "print (\"Let's us see what the values of f1 and f2 are:\")\n",
        "print(f1)\n",
        "print(f2)"
      ],
      "metadata": {
        "colab": {
          "base_uri": "https://localhost:8080/"
        },
        "id": "77khGFklRfKA",
        "outputId": "61270650-5845-40b3-c14f-41c8475c6936"
      },
      "execution_count": null,
      "outputs": [
        {
          "output_type": "stream",
          "name": "stdout",
          "text": [
            "This function prints\n",
            "Let's us see what the values of f1 and f2 are:\n",
            "None\n",
            "This function returns\n"
          ]
        }
      ]
    },
    {
      "cell_type": "markdown",
      "source": [
        "# Error Handling"
      ],
      "metadata": {
        "id": "_xf7L0mE1zBK"
      }
    },
    {
      "cell_type": "code",
      "source": [
        "a = 100 / 0\n",
        "print (a)"
      ],
      "metadata": {
        "colab": {
          "base_uri": "https://localhost:8080/",
          "height": 183
        },
        "collapsed": true,
        "id": "7Ys6OPsg12Zl",
        "outputId": "d9a54662-9674-4f7d-dd72-2e8a689ea3eb"
      },
      "execution_count": null,
      "outputs": [
        {
          "output_type": "error",
          "ename": "ZeroDivisionError",
          "evalue": "ignored",
          "traceback": [
            "\u001b[0;31m---------------------------------------------------------------------------\u001b[0m",
            "\u001b[0;31mZeroDivisionError\u001b[0m                         Traceback (most recent call last)",
            "\u001b[0;32m<ipython-input-80-9f706477b4de>\u001b[0m in \u001b[0;36m<module>\u001b[0;34m\u001b[0m\n\u001b[0;32m----> 1\u001b[0;31m \u001b[0ma\u001b[0m \u001b[0;34m=\u001b[0m \u001b[0;36m100\u001b[0m \u001b[0;34m/\u001b[0m \u001b[0;36m0\u001b[0m\u001b[0;34m\u001b[0m\u001b[0;34m\u001b[0m\u001b[0m\n\u001b[0m\u001b[1;32m      2\u001b[0m \u001b[0mprint\u001b[0m \u001b[0;34m(\u001b[0m\u001b[0ma\u001b[0m\u001b[0;34m)\u001b[0m\u001b[0;34m\u001b[0m\u001b[0;34m\u001b[0m\u001b[0m\n",
            "\u001b[0;31mZeroDivisionError\u001b[0m: division by zero"
          ]
        }
      ]
    },
    {
      "cell_type": "code",
      "source": [
        "print(ans)"
      ],
      "metadata": {
        "colab": {
          "base_uri": "https://localhost:8080/",
          "height": 166
        },
        "collapsed": true,
        "id": "9S5smqhd2IwC",
        "outputId": "0c0cfdfe-25f6-43b6-8cfd-faa444d10eb8"
      },
      "execution_count": null,
      "outputs": [
        {
          "output_type": "error",
          "ename": "NameError",
          "evalue": "ignored",
          "traceback": [
            "\u001b[0;31m---------------------------------------------------------------------------\u001b[0m",
            "\u001b[0;31mNameError\u001b[0m                                 Traceback (most recent call last)",
            "\u001b[0;32m<ipython-input-81-2256eaffe22f>\u001b[0m in \u001b[0;36m<module>\u001b[0;34m\u001b[0m\n\u001b[0;32m----> 1\u001b[0;31m \u001b[0mprint\u001b[0m \u001b[0;34m(\u001b[0m\u001b[0mans\u001b[0m\u001b[0;34m)\u001b[0m\u001b[0;34m\u001b[0m\u001b[0;34m\u001b[0m\u001b[0m\n\u001b[0m",
            "\u001b[0;31mNameError\u001b[0m: name 'ans' is not defined"
          ]
        }
      ]
    },
    {
      "cell_type": "code",
      "source": [
        "  a = 5\n",
        "  b = \"DataCamp\"\n",
        "  c = a + b"
      ],
      "metadata": {
        "colab": {
          "base_uri": "https://localhost:8080/",
          "height": 201
        },
        "collapsed": true,
        "id": "VaMjVrb-2MqM",
        "outputId": "2486c4d8-f5ef-4686-b782-26e5ad595d1a"
      },
      "execution_count": null,
      "outputs": [
        {
          "output_type": "error",
          "ename": "TypeError",
          "evalue": "ignored",
          "traceback": [
            "\u001b[0;31m---------------------------------------------------------------------------\u001b[0m",
            "\u001b[0;31mTypeError\u001b[0m                                 Traceback (most recent call last)",
            "\u001b[0;32m<ipython-input-82-f3b1a6c5ef91>\u001b[0m in \u001b[0;36m<module>\u001b[0;34m\u001b[0m\n\u001b[1;32m      1\u001b[0m \u001b[0ma\u001b[0m \u001b[0;34m=\u001b[0m \u001b[0;36m5\u001b[0m\u001b[0;34m\u001b[0m\u001b[0;34m\u001b[0m\u001b[0m\n\u001b[1;32m      2\u001b[0m \u001b[0mb\u001b[0m \u001b[0;34m=\u001b[0m \u001b[0;34m\"DataCamp\"\u001b[0m\u001b[0;34m\u001b[0m\u001b[0;34m\u001b[0m\u001b[0m\n\u001b[0;32m----> 3\u001b[0;31m \u001b[0mc\u001b[0m \u001b[0;34m=\u001b[0m \u001b[0ma\u001b[0m \u001b[0;34m+\u001b[0m \u001b[0mb\u001b[0m\u001b[0;34m\u001b[0m\u001b[0;34m\u001b[0m\u001b[0m\n\u001b[0m",
            "\u001b[0;31mTypeError\u001b[0m: unsupported operand type(s) for +: 'int' and 'str'"
          ]
        }
      ]
    },
    {
      "cell_type": "code",
      "source": [
        "print (float('DataCamp'))"
      ],
      "metadata": {
        "colab": {
          "base_uri": "https://localhost:8080/",
          "height": 166
        },
        "collapsed": true,
        "id": "isVLP7Cl2VNz",
        "outputId": "ca865864-8faf-411a-86ef-566f3a5e9c3d"
      },
      "execution_count": null,
      "outputs": [
        {
          "output_type": "error",
          "ename": "ValueError",
          "evalue": "ignored",
          "traceback": [
            "\u001b[0;31m---------------------------------------------------------------------------\u001b[0m",
            "\u001b[0;31mValueError\u001b[0m                                Traceback (most recent call last)",
            "\u001b[0;32m<ipython-input-83-6df83d8e892c>\u001b[0m in \u001b[0;36m<module>\u001b[0;34m\u001b[0m\n\u001b[0;32m----> 1\u001b[0;31m \u001b[0mprint\u001b[0m \u001b[0;34m(\u001b[0m\u001b[0mfloat\u001b[0m\u001b[0;34m(\u001b[0m\u001b[0;34m'DataCamp'\u001b[0m\u001b[0;34m)\u001b[0m\u001b[0;34m)\u001b[0m\u001b[0;34m\u001b[0m\u001b[0;34m\u001b[0m\u001b[0m\n\u001b[0m",
            "\u001b[0;31mValueError\u001b[0m: could not convert string to float: 'DataCamp'"
          ]
        }
      ]
    },
    {
      "cell_type": "code",
      "source": [
        "def my_first_function():\n",
        "print(\"This is my first python function\")"
      ],
      "metadata": {
        "colab": {
          "base_uri": "https://localhost:8080/",
          "height": 131
        },
        "id": "-92nDVGu7m_D",
        "outputId": "841714e1-33ab-4bf6-c43f-71ade5f90e85"
      },
      "execution_count": null,
      "outputs": [
        {
          "output_type": "error",
          "ename": "IndentationError",
          "evalue": "ignored",
          "traceback": [
            "\u001b[0;36m  File \u001b[0;32m\"<ipython-input-84-756813aed0e7>\"\u001b[0;36m, line \u001b[0;32m2\u001b[0m\n\u001b[0;31m    print(\"This is my first python function\")\u001b[0m\n\u001b[0m        ^\u001b[0m\n\u001b[0;31mIndentationError\u001b[0m\u001b[0;31m:\u001b[0m expected an indented block\n"
          ]
        }
      ]
    },
    {
      "cell_type": "markdown",
      "source": [
        "#Lab Exercise #4\n"
      ],
      "metadata": {
        "id": "bb-2pe56zqim"
      }
    },
    {
      "cell_type": "code",
      "source": [
        "#1. Create and call a function which takes a parameter of text and prints/output it -\n",
        "# Expected result of my_func(\"I love Python\")\n",
        "#'I love Python'"
      ],
      "metadata": {
        "id": "2FqCUUtd5mUU"
      },
      "execution_count": null,
      "outputs": []
    },
    {
      "cell_type": "code",
      "source": [
        "#2. Create a function which returns the sum of 2 values.\n",
        "#   Sample Code below -\n",
        "\n",
        "def my_sum_func(x,y):\n",
        "  <your_code_here> = x+y\n",
        "  return <your_code_here>\n",
        "\n",
        "print(<your code here>)\n"
      ],
      "metadata": {
        "id": "-57ISNBa5qd7"
      },
      "execution_count": null,
      "outputs": []
    },
    {
      "cell_type": "markdown",
      "source": [
        "# Lab Exercise Answers"
      ],
      "metadata": {
        "id": "YbPrh_Xg12oU"
      }
    },
    {
      "cell_type": "markdown",
      "source": [
        "## Lab Exercise #1"
      ],
      "metadata": {
        "id": "wjvyI5sR2knY"
      }
    },
    {
      "cell_type": "code",
      "source": [
        "#Extract Love from She Loves Data string.\n",
        "word = 'She Loves Data'\n",
        "# type your code here\n",
        "# word[4:7+1]\n",
        "word.split()[1][0:3+1]\n",
        "# word.split()[1][:4]"
      ],
      "metadata": {
        "colab": {
          "base_uri": "https://localhost:8080/",
          "height": 36
        },
        "id": "k7_1J_PA198r",
        "outputId": "ee3737e2-ab86-44b5-e491-889ffce17127"
      },
      "execution_count": null,
      "outputs": [
        {
          "output_type": "execute_result",
          "data": {
            "text/plain": [
              "'Love'"
            ],
            "application/vnd.google.colaboratory.intrinsic+json": {
              "type": "string"
            }
          },
          "metadata": {},
          "execution_count": 137
        }
      ]
    },
    {
      "cell_type": "code",
      "source": [
        "#How do we extract Robert's history grade?\n",
        "dictionary = {'Robert':\n",
        "              {'mathematics':'A',\n",
        "               'history':'C+',\n",
        "               'physics': 'B'},\n",
        "              'Suzie':\n",
        "              {'mathematics':'A+',\n",
        "               'history':'B+',\n",
        "               'physics': 'A-'}\n",
        "              }\n",
        "#type your code here\n",
        "dictionary['Robert']['history']"
      ],
      "metadata": {
        "colab": {
          "base_uri": "https://localhost:8080/",
          "height": 35
        },
        "id": "Bt2dXYTZ198s",
        "outputId": "74648d32-1625-40e1-be87-a8f62b917918"
      },
      "execution_count": null,
      "outputs": [
        {
          "output_type": "execute_result",
          "data": {
            "text/plain": [
              "'C+'"
            ],
            "application/vnd.google.colaboratory.intrinsic+json": {
              "type": "string"
            }
          },
          "metadata": {},
          "execution_count": 5
        }
      ]
    },
    {
      "cell_type": "code",
      "source": [
        "#Given following variable, how do I output following?\n",
        "# When x is 2, x+2 is 4.\n",
        "x = 4\n",
        "#type your code here\n",
        "print('When x is {}, x+2 is {}'.format(x,x+2))"
      ],
      "metadata": {
        "colab": {
          "base_uri": "https://localhost:8080/"
        },
        "id": "BerQ9Qli198s",
        "outputId": "c50b8184-e8e1-4c36-97c6-83b35f745a88"
      },
      "execution_count": null,
      "outputs": [
        {
          "output_type": "stream",
          "name": "stdout",
          "text": [
            "When x is 4, x+2 is 6\n"
          ]
        }
      ]
    },
    {
      "cell_type": "code",
      "source": [
        "#Challenge question: How to reverse all the letters in the word?\n",
        "word = 'I love Python'\n",
        "#expected result: nohtyP evol I\n",
        "#type your code here\n",
        "word[::-1]"
      ],
      "metadata": {
        "colab": {
          "base_uri": "https://localhost:8080/",
          "height": 35
        },
        "id": "h1D97eXr198t",
        "outputId": "91def7b0-fe4c-4e42-9882-3f2d6cefe4da"
      },
      "execution_count": null,
      "outputs": [
        {
          "output_type": "execute_result",
          "data": {
            "text/plain": [
              "'nohtyP evol I'"
            ],
            "application/vnd.google.colaboratory.intrinsic+json": {
              "type": "string"
            }
          },
          "metadata": {},
          "execution_count": 2
        }
      ]
    },
    {
      "cell_type": "markdown",
      "source": [
        "## Lab Exercise #2"
      ],
      "metadata": {
        "id": "k_yEBmLt2nyi"
      }
    },
    {
      "cell_type": "code",
      "source": [
        "birth_year = 1988\n",
        "this_year = 2022\n",
        "\n",
        "### Type your code here...\n",
        "# calculate the age\n",
        "this_year - birth_year"
      ],
      "metadata": {
        "colab": {
          "base_uri": "https://localhost:8080/"
        },
        "id": "zLNBjQHo2t52",
        "outputId": "f1704832-aaf1-4f0e-9c17-bfe252bdf131"
      },
      "execution_count": null,
      "outputs": [
        {
          "output_type": "execute_result",
          "data": {
            "text/plain": [
              "34"
            ]
          },
          "metadata": {},
          "execution_count": 8
        }
      ]
    },
    {
      "cell_type": "code",
      "source": [
        "# Is it true that my age is now 30 years old? How do I write in Python?\n",
        "\n",
        "# your code here...\n",
        "my_age = 38\n",
        "my_age == 30"
      ],
      "metadata": {
        "colab": {
          "base_uri": "https://localhost:8080/"
        },
        "id": "gv3tHHSE2t53",
        "outputId": "a60ec584-377b-4fea-fc4d-b15ed5b42fd5"
      },
      "execution_count": null,
      "outputs": [
        {
          "output_type": "execute_result",
          "data": {
            "text/plain": [
              "False"
            ]
          },
          "metadata": {},
          "execution_count": 9
        }
      ]
    },
    {
      "cell_type": "code",
      "source": [
        "#How do I check if 843 is divisible by 9?\n",
        "\n",
        "#type your code here\n",
        "(843 % 9) == 0"
      ],
      "metadata": {
        "colab": {
          "base_uri": "https://localhost:8080/"
        },
        "id": "JswU218s2t53",
        "outputId": "59bd8983-b6b9-4465-b9c2-f67feac3eb74"
      },
      "execution_count": null,
      "outputs": [
        {
          "output_type": "execute_result",
          "data": {
            "text/plain": [
              "False"
            ]
          },
          "metadata": {},
          "execution_count": 12
        }
      ]
    },
    {
      "cell_type": "code",
      "source": [
        "843/9"
      ],
      "metadata": {
        "colab": {
          "base_uri": "https://localhost:8080/"
        },
        "id": "5P6n6jMDgpeT",
        "outputId": "0e2339ab-4d2b-4bfa-8cfa-a268dcd469c2"
      },
      "execution_count": null,
      "outputs": [
        {
          "output_type": "execute_result",
          "data": {
            "text/plain": [
              "93.66666666666667"
            ]
          },
          "metadata": {},
          "execution_count": 8
        }
      ]
    },
    {
      "cell_type": "markdown",
      "source": [
        "## Lab Exercise #3"
      ],
      "metadata": {
        "id": "1trw6SzV3B9R"
      }
    },
    {
      "cell_type": "code",
      "source": [
        "#1. Resolve error\n",
        "\n",
        "a = 33\n",
        "b = 200\n",
        "if b > a:\n",
        "  print(\"b is greater than a\")"
      ],
      "metadata": {
        "id": "h5ry50bN3w7O"
      },
      "execution_count": null,
      "outputs": []
    },
    {
      "cell_type": "code",
      "source": [
        "# 2. Make a program that lists the months in the set below using a while loop.\n",
        "mlist = [\"January\",\"February\",\"March\",\"April\"]\n",
        "# i=0\n",
        "# while i < len(mlist):\n",
        "#   print(mlist[i])\n",
        "#   i+=1\n",
        "for ele in mlist:\n",
        "  print(ele)\n"
      ],
      "metadata": {
        "colab": {
          "base_uri": "https://localhost:8080/"
        },
        "id": "PqAthuMG3w7P",
        "outputId": "b84c14c6-5b40-4b93-8c7b-32a865467be7"
      },
      "execution_count": null,
      "outputs": [
        {
          "output_type": "stream",
          "name": "stdout",
          "text": [
            "January\n",
            "February\n",
            "March\n",
            "April\n"
          ]
        }
      ]
    },
    {
      "cell_type": "code",
      "source": [
        "#3. Make a program to print even numbers till 100\n",
        "for i in range(101):\n",
        "  if i % 2 == 0:\n",
        "    print(i)\n",
        "\n",
        "#OR\n",
        "\n",
        "for i in range(0,101,2):\n",
        "  print(i)"
      ],
      "metadata": {
        "colab": {
          "base_uri": "https://localhost:8080/"
        },
        "id": "sOtErPbN3w7P",
        "outputId": "de2cffa3-f4d1-4f69-93b4-5a58fd028897"
      },
      "execution_count": null,
      "outputs": [
        {
          "output_type": "stream",
          "name": "stdout",
          "text": [
            "0\n",
            "2\n",
            "4\n",
            "6\n",
            "8\n",
            "10\n",
            "12\n",
            "14\n",
            "16\n",
            "18\n",
            "20\n",
            "22\n",
            "24\n",
            "26\n",
            "28\n",
            "30\n",
            "32\n",
            "34\n",
            "36\n",
            "38\n",
            "40\n",
            "42\n",
            "44\n",
            "46\n",
            "48\n",
            "50\n",
            "52\n",
            "54\n",
            "56\n",
            "58\n",
            "60\n",
            "62\n",
            "64\n",
            "66\n",
            "68\n",
            "70\n",
            "72\n",
            "74\n",
            "76\n",
            "78\n",
            "80\n",
            "82\n",
            "84\n",
            "86\n",
            "88\n",
            "90\n",
            "92\n",
            "94\n",
            "96\n",
            "98\n",
            "100\n",
            "0\n",
            "2\n",
            "4\n",
            "6\n",
            "8\n",
            "10\n",
            "12\n",
            "14\n",
            "16\n",
            "18\n",
            "20\n",
            "22\n",
            "24\n",
            "26\n",
            "28\n",
            "30\n",
            "32\n",
            "34\n",
            "36\n",
            "38\n",
            "40\n",
            "42\n",
            "44\n",
            "46\n",
            "48\n",
            "50\n",
            "52\n",
            "54\n",
            "56\n",
            "58\n",
            "60\n",
            "62\n",
            "64\n",
            "66\n",
            "68\n",
            "70\n",
            "72\n",
            "74\n",
            "76\n",
            "78\n",
            "80\n",
            "82\n",
            "84\n",
            "86\n",
            "88\n",
            "90\n",
            "92\n",
            "94\n",
            "96\n",
            "98\n",
            "100\n"
          ]
        }
      ]
    },
    {
      "cell_type": "markdown",
      "source": [
        "## Lab Exercise #4"
      ],
      "metadata": {
        "id": "B3ZZ3Gji6k6p"
      }
    },
    {
      "cell_type": "code",
      "source": [
        "#1. Create and call a function which takes a parameter of text and prints/output it -\n",
        "# Expected result of my_func(\"I love Python\")\n",
        "#'I love Python'\n",
        "def my_print(some_word):\n",
        "  print(some_word)\n",
        "\n",
        "my_print('This is Saturday')"
      ],
      "metadata": {
        "colab": {
          "base_uri": "https://localhost:8080/"
        },
        "id": "_JEvLb2X6Jd0",
        "outputId": "44e692cd-29d7-4195-bf3d-44058d0f5887"
      },
      "execution_count": null,
      "outputs": [
        {
          "output_type": "stream",
          "name": "stdout",
          "text": [
            "This is Saturday\n"
          ]
        }
      ]
    },
    {
      "cell_type": "code",
      "source": [
        "#2. Create a function which returns the sum of 2 values.\n",
        "#   Sample Code below -\n",
        "\n",
        "def my_sum_func(a,b):\n",
        "  return a+b\n",
        "\n",
        "my_sum_func(5,6)"
      ],
      "metadata": {
        "colab": {
          "base_uri": "https://localhost:8080/"
        },
        "id": "xXMPb1YO3bPS",
        "outputId": "4a9fde62-f3e1-4bc7-9107-b6fd0edb96eb"
      },
      "execution_count": null,
      "outputs": [
        {
          "output_type": "execute_result",
          "data": {
            "text/plain": [
              "11"
            ]
          },
          "metadata": {},
          "execution_count": 13
        }
      ]
    },
    {
      "cell_type": "markdown",
      "source": [
        "# Bonus (if time allows)"
      ],
      "metadata": {
        "id": "LElQ890wpHQM"
      }
    },
    {
      "cell_type": "markdown",
      "source": [
        "## Exception Handling"
      ],
      "metadata": {
        "id": "kAGyemajp9hJ"
      }
    },
    {
      "cell_type": "code",
      "source": [
        "'''\n",
        "try:\n",
        "    a = 100 / 0\n",
        "    print (a)\n",
        "except ZeroDivisionError:\n",
        "        print (\"Zero Division Exception Raised.\" )\n",
        "else:\n",
        "    print (\"Success, no error!\")\n",
        "'''"
      ],
      "metadata": {
        "colab": {
          "base_uri": "https://localhost:8080/"
        },
        "id": "VVz9b_hfDQTU",
        "outputId": "ce98f583-9dcc-4cc5-fe32-5093a2ed7460"
      },
      "execution_count": null,
      "outputs": [
        {
          "output_type": "stream",
          "name": "stdout",
          "text": [
            "Zero Division Exception Raised.\n"
          ]
        }
      ]
    },
    {
      "cell_type": "code",
      "source": [
        "try:\n",
        "    print (ans)\n",
        "except NameError:\n",
        "    print (\"NameError: name 'ans' is not defined\")\n",
        "else:\n",
        "    print (\"Success, no error!\")"
      ],
      "metadata": {
        "colab": {
          "base_uri": "https://localhost:8080/"
        },
        "id": "72wM7RaODs_C",
        "outputId": "48eee0f3-3854-43bc-c5b9-71f033d03bb6"
      },
      "execution_count": null,
      "outputs": [
        {
          "output_type": "stream",
          "name": "stdout",
          "text": [
            "NameError: name 'ans' is not defined\n"
          ]
        }
      ]
    },
    {
      "cell_type": "code",
      "source": [
        "try:\n",
        "    a = 5\n",
        "    b = \"DataCamp\"\n",
        "    c = a + b\n",
        "except TypeError:\n",
        "    print ('TypeError Exception Raised')\n",
        "else:\n",
        "    print ('Success, no error!')"
      ],
      "metadata": {
        "id": "PX6gvv_decLd",
        "outputId": "7e7900d1-4ed2-4396-efdd-21628d1aec57",
        "colab": {
          "base_uri": "https://localhost:8080/"
        }
      },
      "execution_count": null,
      "outputs": [
        {
          "output_type": "stream",
          "name": "stdout",
          "text": [
            "TypeError Exception Raised\n"
          ]
        }
      ]
    },
    {
      "cell_type": "code",
      "source": [
        "try:\n",
        "    print (float('DataCamp'))\n",
        "except ValueError:\n",
        "    print ('ValueError: could not convert string to float: \\'DataCamp\\'')\n",
        "else:\n",
        "    print ('Success, no error!')"
      ],
      "metadata": {
        "id": "6uXpTpGoef-X",
        "outputId": "7a02e9f8-27ea-41ed-ae04-6a383f1aca63",
        "colab": {
          "base_uri": "https://localhost:8080/"
        }
      },
      "execution_count": null,
      "outputs": [
        {
          "output_type": "stream",
          "name": "stdout",
          "text": [
            "ValueError: could not convert string to float: 'DataCamp'\n"
          ]
        }
      ]
    },
    {
      "cell_type": "code",
      "source": [],
      "metadata": {
        "id": "HeGGiiAt0aLP"
      },
      "execution_count": null,
      "outputs": []
    },
    {
      "cell_type": "markdown",
      "metadata": {
        "id": "MoWnx3olhBNp"
      },
      "source": [
        "## lambda expressions"
      ]
    },
    {
      "cell_type": "code",
      "metadata": {
        "id": "3Ff95GVphBNp"
      },
      "source": [
        "def times2(var):\n",
        "    return var*2"
      ],
      "execution_count": null,
      "outputs": []
    },
    {
      "cell_type": "code",
      "metadata": {
        "id": "JGiR9QAPhBNr"
      },
      "source": [
        "times2(2)"
      ],
      "execution_count": null,
      "outputs": []
    },
    {
      "cell_type": "code",
      "metadata": {
        "id": "RD9wIv8UhBNs"
      },
      "source": [
        "lambda var: var*2"
      ],
      "execution_count": null,
      "outputs": []
    },
    {
      "cell_type": "markdown",
      "metadata": {
        "id": "CmsAkY2NhBN4"
      },
      "source": [
        "## methods"
      ]
    },
    {
      "cell_type": "markdown",
      "metadata": {
        "id": "5Rx6ZMIG6n7N"
      },
      "source": [
        "Method is a function which belongs to an object.\n",
        "\n",
        "Syntax: [object].method()\n",
        "\n",
        "Function syntax: func([object] or parameters)\n"
      ]
    },
    {
      "cell_type": "code",
      "metadata": {
        "id": "UvrjNjJPhBN4"
      },
      "source": [
        "st = 'hello my name is Sam'"
      ],
      "execution_count": null,
      "outputs": []
    },
    {
      "cell_type": "code",
      "metadata": {
        "id": "zrYd3NwlhBN6"
      },
      "source": [
        "st.lower()"
      ],
      "execution_count": null,
      "outputs": []
    },
    {
      "cell_type": "code",
      "metadata": {
        "id": "NpIDBZSvhBN7"
      },
      "source": [
        "st.upper()"
      ],
      "execution_count": null,
      "outputs": []
    },
    {
      "cell_type": "code",
      "metadata": {
        "id": "a-n3DihNhBN9"
      },
      "source": [
        "st.split()"
      ],
      "execution_count": null,
      "outputs": []
    },
    {
      "cell_type": "code",
      "metadata": {
        "id": "TJbJJ17ThBOA"
      },
      "source": [
        "tweet = 'Go Sports! #Sports'"
      ],
      "execution_count": null,
      "outputs": []
    },
    {
      "cell_type": "code",
      "metadata": {
        "id": "UDcQOaTmhBOD"
      },
      "source": [
        "tweet.split('#')"
      ],
      "execution_count": null,
      "outputs": []
    },
    {
      "cell_type": "code",
      "metadata": {
        "id": "Cs0WoMOlhBOF"
      },
      "source": [
        "tweet.split('#')[1]"
      ],
      "execution_count": null,
      "outputs": []
    },
    {
      "cell_type": "code",
      "metadata": {
        "id": "w1Iy8e8phBOG"
      },
      "source": [
        "d"
      ],
      "execution_count": null,
      "outputs": []
    },
    {
      "cell_type": "code",
      "metadata": {
        "id": "qVmYPiaXhBOH"
      },
      "source": [
        "d.keys()"
      ],
      "execution_count": null,
      "outputs": []
    },
    {
      "cell_type": "code",
      "metadata": {
        "id": "enPOgu0FhBOI"
      },
      "source": [
        "d.items()"
      ],
      "execution_count": null,
      "outputs": []
    },
    {
      "cell_type": "code",
      "metadata": {
        "id": "JYT7SuPahBOK"
      },
      "source": [
        "lst = [1,2,3]"
      ],
      "execution_count": null,
      "outputs": []
    },
    {
      "cell_type": "code",
      "metadata": {
        "id": "EZol7pOihBOM"
      },
      "source": [
        "lst.pop()"
      ],
      "execution_count": null,
      "outputs": []
    },
    {
      "cell_type": "code",
      "metadata": {
        "id": "GdL2EfLyhBOO"
      },
      "source": [
        "lst"
      ],
      "execution_count": null,
      "outputs": []
    },
    {
      "cell_type": "code",
      "metadata": {
        "id": "8QUFHyPBhBOP"
      },
      "source": [
        "'x' in [1,2,3]"
      ],
      "execution_count": null,
      "outputs": []
    },
    {
      "cell_type": "code",
      "metadata": {
        "id": "_40hBLT5hBOS"
      },
      "source": [
        "'x' in ['x','y','z']"
      ],
      "execution_count": null,
      "outputs": []
    },
    {
      "cell_type": "code",
      "source": [
        "x = ['a b', 'c d']\n",
        "for i in x:\n",
        "    i.split()\n",
        "print(x)"
      ],
      "metadata": {
        "colab": {
          "base_uri": "https://localhost:8080/"
        },
        "id": "62WxpqngUDX4",
        "outputId": "c8633a38-4562-4543-fdac-7314e56c87a6"
      },
      "execution_count": null,
      "outputs": [
        {
          "output_type": "stream",
          "name": "stdout",
          "text": [
            "['a b', 'c d']\n"
          ]
        }
      ]
    },
    {
      "cell_type": "code",
      "source": [],
      "metadata": {
        "id": "F727xRDPUc5R"
      },
      "execution_count": null,
      "outputs": []
    },
    {
      "cell_type": "code",
      "source": [
        "D={'Maria': {'Age':30, 'Gender':'F'},    'Daniel': {'Age':24, 'Gender':'M'}   }\n",
        "D['Maria']['Age']"
      ],
      "metadata": {
        "colab": {
          "base_uri": "https://localhost:8080/"
        },
        "id": "-aUTh-z1zyuO",
        "outputId": "f25dd378-e397-459c-e521-d0f26578b2af"
      },
      "execution_count": null,
      "outputs": [
        {
          "output_type": "execute_result",
          "data": {
            "text/plain": [
              "30"
            ]
          },
          "metadata": {},
          "execution_count": 2
        }
      ]
    },
    {
      "cell_type": "code",
      "source": [],
      "metadata": {
        "id": "fgAQ-lKuz0nx"
      },
      "execution_count": null,
      "outputs": []
    }
  ]
}